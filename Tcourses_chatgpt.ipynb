{
  "nbformat": 4,
  "nbformat_minor": 0,
  "metadata": {
    "colab": {
      "provenance": [],
      "collapsed_sections": [
        "jaQDmfmAcC5O",
        "HuCM4URXSsj3",
        "05E4vRjKS1A0",
        "5SYmEGnkebqk"
      ]
    },
    "kernelspec": {
      "name": "python3",
      "display_name": "Python 3"
    },
    "language_info": {
      "name": "python"
    },
    "widgets": {
      "application/vnd.jupyter.widget-state+json": {
        "f2eb11aea51c495185d425d817b9db9e": {
          "model_module": "@jupyter-widgets/controls",
          "model_name": "HBoxModel",
          "model_module_version": "1.5.0",
          "state": {
            "_dom_classes": [],
            "_model_module": "@jupyter-widgets/controls",
            "_model_module_version": "1.5.0",
            "_model_name": "HBoxModel",
            "_view_count": null,
            "_view_module": "@jupyter-widgets/controls",
            "_view_module_version": "1.5.0",
            "_view_name": "HBoxView",
            "box_style": "",
            "children": [
              "IPY_MODEL_a515c79efbb947e6b6d3b6b5fcf3e89a",
              "IPY_MODEL_0e7673cd03454bccbf9de1184414725c",
              "IPY_MODEL_e395bcf7be5841c1bd143609b037fa56"
            ],
            "layout": "IPY_MODEL_76f9d2da82884d6798624367682e24eb"
          }
        },
        "a515c79efbb947e6b6d3b6b5fcf3e89a": {
          "model_module": "@jupyter-widgets/controls",
          "model_name": "HTMLModel",
          "model_module_version": "1.5.0",
          "state": {
            "_dom_classes": [],
            "_model_module": "@jupyter-widgets/controls",
            "_model_module_version": "1.5.0",
            "_model_name": "HTMLModel",
            "_view_count": null,
            "_view_module": "@jupyter-widgets/controls",
            "_view_module_version": "1.5.0",
            "_view_name": "HTMLView",
            "description": "",
            "description_tooltip": null,
            "layout": "IPY_MODEL_c3e4d07e0a554d04aa938f1909d24c52",
            "placeholder": "​",
            "style": "IPY_MODEL_6d078721442b407b9f17e3cd152db1f0",
            "value": "Downloading (…)okenizer_config.json: 100%"
          }
        },
        "0e7673cd03454bccbf9de1184414725c": {
          "model_module": "@jupyter-widgets/controls",
          "model_name": "FloatProgressModel",
          "model_module_version": "1.5.0",
          "state": {
            "_dom_classes": [],
            "_model_module": "@jupyter-widgets/controls",
            "_model_module_version": "1.5.0",
            "_model_name": "FloatProgressModel",
            "_view_count": null,
            "_view_module": "@jupyter-widgets/controls",
            "_view_module_version": "1.5.0",
            "_view_name": "ProgressView",
            "bar_style": "success",
            "description": "",
            "description_tooltip": null,
            "layout": "IPY_MODEL_69a63a06e14749db88160dff1f43d657",
            "max": 328,
            "min": 0,
            "orientation": "horizontal",
            "style": "IPY_MODEL_b05f2d4339ec45c991a35d13a4c788de",
            "value": 328
          }
        },
        "e395bcf7be5841c1bd143609b037fa56": {
          "model_module": "@jupyter-widgets/controls",
          "model_name": "HTMLModel",
          "model_module_version": "1.5.0",
          "state": {
            "_dom_classes": [],
            "_model_module": "@jupyter-widgets/controls",
            "_model_module_version": "1.5.0",
            "_model_name": "HTMLModel",
            "_view_count": null,
            "_view_module": "@jupyter-widgets/controls",
            "_view_module_version": "1.5.0",
            "_view_name": "HTMLView",
            "description": "",
            "description_tooltip": null,
            "layout": "IPY_MODEL_8b42f204faca4727bfc3a27a6439401b",
            "placeholder": "​",
            "style": "IPY_MODEL_0c3e73ac2d234501adc1302f3e12576a",
            "value": " 328/328 [00:00&lt;00:00, 5.12kB/s]"
          }
        },
        "76f9d2da82884d6798624367682e24eb": {
          "model_module": "@jupyter-widgets/base",
          "model_name": "LayoutModel",
          "model_module_version": "1.2.0",
          "state": {
            "_model_module": "@jupyter-widgets/base",
            "_model_module_version": "1.2.0",
            "_model_name": "LayoutModel",
            "_view_count": null,
            "_view_module": "@jupyter-widgets/base",
            "_view_module_version": "1.2.0",
            "_view_name": "LayoutView",
            "align_content": null,
            "align_items": null,
            "align_self": null,
            "border": null,
            "bottom": null,
            "display": null,
            "flex": null,
            "flex_flow": null,
            "grid_area": null,
            "grid_auto_columns": null,
            "grid_auto_flow": null,
            "grid_auto_rows": null,
            "grid_column": null,
            "grid_gap": null,
            "grid_row": null,
            "grid_template_areas": null,
            "grid_template_columns": null,
            "grid_template_rows": null,
            "height": null,
            "justify_content": null,
            "justify_items": null,
            "left": null,
            "margin": null,
            "max_height": null,
            "max_width": null,
            "min_height": null,
            "min_width": null,
            "object_fit": null,
            "object_position": null,
            "order": null,
            "overflow": null,
            "overflow_x": null,
            "overflow_y": null,
            "padding": null,
            "right": null,
            "top": null,
            "visibility": null,
            "width": null
          }
        },
        "c3e4d07e0a554d04aa938f1909d24c52": {
          "model_module": "@jupyter-widgets/base",
          "model_name": "LayoutModel",
          "model_module_version": "1.2.0",
          "state": {
            "_model_module": "@jupyter-widgets/base",
            "_model_module_version": "1.2.0",
            "_model_name": "LayoutModel",
            "_view_count": null,
            "_view_module": "@jupyter-widgets/base",
            "_view_module_version": "1.2.0",
            "_view_name": "LayoutView",
            "align_content": null,
            "align_items": null,
            "align_self": null,
            "border": null,
            "bottom": null,
            "display": null,
            "flex": null,
            "flex_flow": null,
            "grid_area": null,
            "grid_auto_columns": null,
            "grid_auto_flow": null,
            "grid_auto_rows": null,
            "grid_column": null,
            "grid_gap": null,
            "grid_row": null,
            "grid_template_areas": null,
            "grid_template_columns": null,
            "grid_template_rows": null,
            "height": null,
            "justify_content": null,
            "justify_items": null,
            "left": null,
            "margin": null,
            "max_height": null,
            "max_width": null,
            "min_height": null,
            "min_width": null,
            "object_fit": null,
            "object_position": null,
            "order": null,
            "overflow": null,
            "overflow_x": null,
            "overflow_y": null,
            "padding": null,
            "right": null,
            "top": null,
            "visibility": null,
            "width": null
          }
        },
        "6d078721442b407b9f17e3cd152db1f0": {
          "model_module": "@jupyter-widgets/controls",
          "model_name": "DescriptionStyleModel",
          "model_module_version": "1.5.0",
          "state": {
            "_model_module": "@jupyter-widgets/controls",
            "_model_module_version": "1.5.0",
            "_model_name": "DescriptionStyleModel",
            "_view_count": null,
            "_view_module": "@jupyter-widgets/base",
            "_view_module_version": "1.2.0",
            "_view_name": "StyleView",
            "description_width": ""
          }
        },
        "69a63a06e14749db88160dff1f43d657": {
          "model_module": "@jupyter-widgets/base",
          "model_name": "LayoutModel",
          "model_module_version": "1.2.0",
          "state": {
            "_model_module": "@jupyter-widgets/base",
            "_model_module_version": "1.2.0",
            "_model_name": "LayoutModel",
            "_view_count": null,
            "_view_module": "@jupyter-widgets/base",
            "_view_module_version": "1.2.0",
            "_view_name": "LayoutView",
            "align_content": null,
            "align_items": null,
            "align_self": null,
            "border": null,
            "bottom": null,
            "display": null,
            "flex": null,
            "flex_flow": null,
            "grid_area": null,
            "grid_auto_columns": null,
            "grid_auto_flow": null,
            "grid_auto_rows": null,
            "grid_column": null,
            "grid_gap": null,
            "grid_row": null,
            "grid_template_areas": null,
            "grid_template_columns": null,
            "grid_template_rows": null,
            "height": null,
            "justify_content": null,
            "justify_items": null,
            "left": null,
            "margin": null,
            "max_height": null,
            "max_width": null,
            "min_height": null,
            "min_width": null,
            "object_fit": null,
            "object_position": null,
            "order": null,
            "overflow": null,
            "overflow_x": null,
            "overflow_y": null,
            "padding": null,
            "right": null,
            "top": null,
            "visibility": null,
            "width": null
          }
        },
        "b05f2d4339ec45c991a35d13a4c788de": {
          "model_module": "@jupyter-widgets/controls",
          "model_name": "ProgressStyleModel",
          "model_module_version": "1.5.0",
          "state": {
            "_model_module": "@jupyter-widgets/controls",
            "_model_module_version": "1.5.0",
            "_model_name": "ProgressStyleModel",
            "_view_count": null,
            "_view_module": "@jupyter-widgets/base",
            "_view_module_version": "1.2.0",
            "_view_name": "StyleView",
            "bar_color": null,
            "description_width": ""
          }
        },
        "8b42f204faca4727bfc3a27a6439401b": {
          "model_module": "@jupyter-widgets/base",
          "model_name": "LayoutModel",
          "model_module_version": "1.2.0",
          "state": {
            "_model_module": "@jupyter-widgets/base",
            "_model_module_version": "1.2.0",
            "_model_name": "LayoutModel",
            "_view_count": null,
            "_view_module": "@jupyter-widgets/base",
            "_view_module_version": "1.2.0",
            "_view_name": "LayoutView",
            "align_content": null,
            "align_items": null,
            "align_self": null,
            "border": null,
            "bottom": null,
            "display": null,
            "flex": null,
            "flex_flow": null,
            "grid_area": null,
            "grid_auto_columns": null,
            "grid_auto_flow": null,
            "grid_auto_rows": null,
            "grid_column": null,
            "grid_gap": null,
            "grid_row": null,
            "grid_template_areas": null,
            "grid_template_columns": null,
            "grid_template_rows": null,
            "height": null,
            "justify_content": null,
            "justify_items": null,
            "left": null,
            "margin": null,
            "max_height": null,
            "max_width": null,
            "min_height": null,
            "min_width": null,
            "object_fit": null,
            "object_position": null,
            "order": null,
            "overflow": null,
            "overflow_x": null,
            "overflow_y": null,
            "padding": null,
            "right": null,
            "top": null,
            "visibility": null,
            "width": null
          }
        },
        "0c3e73ac2d234501adc1302f3e12576a": {
          "model_module": "@jupyter-widgets/controls",
          "model_name": "DescriptionStyleModel",
          "model_module_version": "1.5.0",
          "state": {
            "_model_module": "@jupyter-widgets/controls",
            "_model_module_version": "1.5.0",
            "_model_name": "DescriptionStyleModel",
            "_view_count": null,
            "_view_module": "@jupyter-widgets/base",
            "_view_module_version": "1.2.0",
            "_view_name": "StyleView",
            "description_width": ""
          }
        },
        "8a448cfffdab4ad6b86122f62a5bb6cb": {
          "model_module": "@jupyter-widgets/controls",
          "model_name": "HBoxModel",
          "model_module_version": "1.5.0",
          "state": {
            "_dom_classes": [],
            "_model_module": "@jupyter-widgets/controls",
            "_model_module_version": "1.5.0",
            "_model_name": "HBoxModel",
            "_view_count": null,
            "_view_module": "@jupyter-widgets/controls",
            "_view_module_version": "1.5.0",
            "_view_name": "HBoxView",
            "box_style": "",
            "children": [
              "IPY_MODEL_4ce04f52210f4a0e8d8ff9577e69fba6",
              "IPY_MODEL_03d7f0045dd54f13944c9b8d2b446b40",
              "IPY_MODEL_6523a3e446c34bfa8f7b2dbc171f733f"
            ],
            "layout": "IPY_MODEL_b8590c2a0b4d4150bfe2973bc735f1bb"
          }
        },
        "4ce04f52210f4a0e8d8ff9577e69fba6": {
          "model_module": "@jupyter-widgets/controls",
          "model_name": "HTMLModel",
          "model_module_version": "1.5.0",
          "state": {
            "_dom_classes": [],
            "_model_module": "@jupyter-widgets/controls",
            "_model_module_version": "1.5.0",
            "_model_name": "HTMLModel",
            "_view_count": null,
            "_view_module": "@jupyter-widgets/controls",
            "_view_module_version": "1.5.0",
            "_view_name": "HTMLView",
            "description": "",
            "description_tooltip": null,
            "layout": "IPY_MODEL_63a8a3bc9fcf46d8825b57fbd5aa5499",
            "placeholder": "​",
            "style": "IPY_MODEL_ce5c6b5ae5ea4b4ab5261e3258177107",
            "value": "Downloading (…)olve/main/vocab.json: 100%"
          }
        },
        "03d7f0045dd54f13944c9b8d2b446b40": {
          "model_module": "@jupyter-widgets/controls",
          "model_name": "FloatProgressModel",
          "model_module_version": "1.5.0",
          "state": {
            "_dom_classes": [],
            "_model_module": "@jupyter-widgets/controls",
            "_model_module_version": "1.5.0",
            "_model_name": "FloatProgressModel",
            "_view_count": null,
            "_view_module": "@jupyter-widgets/controls",
            "_view_module_version": "1.5.0",
            "_view_name": "ProgressView",
            "bar_style": "success",
            "description": "",
            "description_tooltip": null,
            "layout": "IPY_MODEL_d81d1508652b4e3597e0d3663d8342d6",
            "max": 798293,
            "min": 0,
            "orientation": "horizontal",
            "style": "IPY_MODEL_d874d1bf86af4e9690104409f6cd14a3",
            "value": 798293
          }
        },
        "6523a3e446c34bfa8f7b2dbc171f733f": {
          "model_module": "@jupyter-widgets/controls",
          "model_name": "HTMLModel",
          "model_module_version": "1.5.0",
          "state": {
            "_dom_classes": [],
            "_model_module": "@jupyter-widgets/controls",
            "_model_module_version": "1.5.0",
            "_model_name": "HTMLModel",
            "_view_count": null,
            "_view_module": "@jupyter-widgets/controls",
            "_view_module_version": "1.5.0",
            "_view_name": "HTMLView",
            "description": "",
            "description_tooltip": null,
            "layout": "IPY_MODEL_c8c39ecf0a704409a385eed33803c3fc",
            "placeholder": "​",
            "style": "IPY_MODEL_86ff2d0968e540d2887efabc9414665b",
            "value": " 798k/798k [00:00&lt;00:00, 835kB/s]"
          }
        },
        "b8590c2a0b4d4150bfe2973bc735f1bb": {
          "model_module": "@jupyter-widgets/base",
          "model_name": "LayoutModel",
          "model_module_version": "1.2.0",
          "state": {
            "_model_module": "@jupyter-widgets/base",
            "_model_module_version": "1.2.0",
            "_model_name": "LayoutModel",
            "_view_count": null,
            "_view_module": "@jupyter-widgets/base",
            "_view_module_version": "1.2.0",
            "_view_name": "LayoutView",
            "align_content": null,
            "align_items": null,
            "align_self": null,
            "border": null,
            "bottom": null,
            "display": null,
            "flex": null,
            "flex_flow": null,
            "grid_area": null,
            "grid_auto_columns": null,
            "grid_auto_flow": null,
            "grid_auto_rows": null,
            "grid_column": null,
            "grid_gap": null,
            "grid_row": null,
            "grid_template_areas": null,
            "grid_template_columns": null,
            "grid_template_rows": null,
            "height": null,
            "justify_content": null,
            "justify_items": null,
            "left": null,
            "margin": null,
            "max_height": null,
            "max_width": null,
            "min_height": null,
            "min_width": null,
            "object_fit": null,
            "object_position": null,
            "order": null,
            "overflow": null,
            "overflow_x": null,
            "overflow_y": null,
            "padding": null,
            "right": null,
            "top": null,
            "visibility": null,
            "width": null
          }
        },
        "63a8a3bc9fcf46d8825b57fbd5aa5499": {
          "model_module": "@jupyter-widgets/base",
          "model_name": "LayoutModel",
          "model_module_version": "1.2.0",
          "state": {
            "_model_module": "@jupyter-widgets/base",
            "_model_module_version": "1.2.0",
            "_model_name": "LayoutModel",
            "_view_count": null,
            "_view_module": "@jupyter-widgets/base",
            "_view_module_version": "1.2.0",
            "_view_name": "LayoutView",
            "align_content": null,
            "align_items": null,
            "align_self": null,
            "border": null,
            "bottom": null,
            "display": null,
            "flex": null,
            "flex_flow": null,
            "grid_area": null,
            "grid_auto_columns": null,
            "grid_auto_flow": null,
            "grid_auto_rows": null,
            "grid_column": null,
            "grid_gap": null,
            "grid_row": null,
            "grid_template_areas": null,
            "grid_template_columns": null,
            "grid_template_rows": null,
            "height": null,
            "justify_content": null,
            "justify_items": null,
            "left": null,
            "margin": null,
            "max_height": null,
            "max_width": null,
            "min_height": null,
            "min_width": null,
            "object_fit": null,
            "object_position": null,
            "order": null,
            "overflow": null,
            "overflow_x": null,
            "overflow_y": null,
            "padding": null,
            "right": null,
            "top": null,
            "visibility": null,
            "width": null
          }
        },
        "ce5c6b5ae5ea4b4ab5261e3258177107": {
          "model_module": "@jupyter-widgets/controls",
          "model_name": "DescriptionStyleModel",
          "model_module_version": "1.5.0",
          "state": {
            "_model_module": "@jupyter-widgets/controls",
            "_model_module_version": "1.5.0",
            "_model_name": "DescriptionStyleModel",
            "_view_count": null,
            "_view_module": "@jupyter-widgets/base",
            "_view_module_version": "1.2.0",
            "_view_name": "StyleView",
            "description_width": ""
          }
        },
        "d81d1508652b4e3597e0d3663d8342d6": {
          "model_module": "@jupyter-widgets/base",
          "model_name": "LayoutModel",
          "model_module_version": "1.2.0",
          "state": {
            "_model_module": "@jupyter-widgets/base",
            "_model_module_version": "1.2.0",
            "_model_name": "LayoutModel",
            "_view_count": null,
            "_view_module": "@jupyter-widgets/base",
            "_view_module_version": "1.2.0",
            "_view_name": "LayoutView",
            "align_content": null,
            "align_items": null,
            "align_self": null,
            "border": null,
            "bottom": null,
            "display": null,
            "flex": null,
            "flex_flow": null,
            "grid_area": null,
            "grid_auto_columns": null,
            "grid_auto_flow": null,
            "grid_auto_rows": null,
            "grid_column": null,
            "grid_gap": null,
            "grid_row": null,
            "grid_template_areas": null,
            "grid_template_columns": null,
            "grid_template_rows": null,
            "height": null,
            "justify_content": null,
            "justify_items": null,
            "left": null,
            "margin": null,
            "max_height": null,
            "max_width": null,
            "min_height": null,
            "min_width": null,
            "object_fit": null,
            "object_position": null,
            "order": null,
            "overflow": null,
            "overflow_x": null,
            "overflow_y": null,
            "padding": null,
            "right": null,
            "top": null,
            "visibility": null,
            "width": null
          }
        },
        "d874d1bf86af4e9690104409f6cd14a3": {
          "model_module": "@jupyter-widgets/controls",
          "model_name": "ProgressStyleModel",
          "model_module_version": "1.5.0",
          "state": {
            "_model_module": "@jupyter-widgets/controls",
            "_model_module_version": "1.5.0",
            "_model_name": "ProgressStyleModel",
            "_view_count": null,
            "_view_module": "@jupyter-widgets/base",
            "_view_module_version": "1.2.0",
            "_view_name": "StyleView",
            "bar_color": null,
            "description_width": ""
          }
        },
        "c8c39ecf0a704409a385eed33803c3fc": {
          "model_module": "@jupyter-widgets/base",
          "model_name": "LayoutModel",
          "model_module_version": "1.2.0",
          "state": {
            "_model_module": "@jupyter-widgets/base",
            "_model_module_version": "1.2.0",
            "_model_name": "LayoutModel",
            "_view_count": null,
            "_view_module": "@jupyter-widgets/base",
            "_view_module_version": "1.2.0",
            "_view_name": "LayoutView",
            "align_content": null,
            "align_items": null,
            "align_self": null,
            "border": null,
            "bottom": null,
            "display": null,
            "flex": null,
            "flex_flow": null,
            "grid_area": null,
            "grid_auto_columns": null,
            "grid_auto_flow": null,
            "grid_auto_rows": null,
            "grid_column": null,
            "grid_gap": null,
            "grid_row": null,
            "grid_template_areas": null,
            "grid_template_columns": null,
            "grid_template_rows": null,
            "height": null,
            "justify_content": null,
            "justify_items": null,
            "left": null,
            "margin": null,
            "max_height": null,
            "max_width": null,
            "min_height": null,
            "min_width": null,
            "object_fit": null,
            "object_position": null,
            "order": null,
            "overflow": null,
            "overflow_x": null,
            "overflow_y": null,
            "padding": null,
            "right": null,
            "top": null,
            "visibility": null,
            "width": null
          }
        },
        "86ff2d0968e540d2887efabc9414665b": {
          "model_module": "@jupyter-widgets/controls",
          "model_name": "DescriptionStyleModel",
          "model_module_version": "1.5.0",
          "state": {
            "_model_module": "@jupyter-widgets/controls",
            "_model_module_version": "1.5.0",
            "_model_name": "DescriptionStyleModel",
            "_view_count": null,
            "_view_module": "@jupyter-widgets/base",
            "_view_module_version": "1.2.0",
            "_view_name": "StyleView",
            "description_width": ""
          }
        },
        "9de16e425a8f421f979d3847c8d3d162": {
          "model_module": "@jupyter-widgets/controls",
          "model_name": "HBoxModel",
          "model_module_version": "1.5.0",
          "state": {
            "_dom_classes": [],
            "_model_module": "@jupyter-widgets/controls",
            "_model_module_version": "1.5.0",
            "_model_name": "HBoxModel",
            "_view_count": null,
            "_view_module": "@jupyter-widgets/controls",
            "_view_module_version": "1.5.0",
            "_view_name": "HBoxView",
            "box_style": "",
            "children": [
              "IPY_MODEL_3aa7026e17fb43c38892cc68487b728c",
              "IPY_MODEL_6ff36ddf12494314bdf8af7f54ca52dc",
              "IPY_MODEL_8db717acf2a04a9c9bd03d5502ccf15d"
            ],
            "layout": "IPY_MODEL_7149f0c3d5b04666b986b7ffc086c9e1"
          }
        },
        "3aa7026e17fb43c38892cc68487b728c": {
          "model_module": "@jupyter-widgets/controls",
          "model_name": "HTMLModel",
          "model_module_version": "1.5.0",
          "state": {
            "_dom_classes": [],
            "_model_module": "@jupyter-widgets/controls",
            "_model_module_version": "1.5.0",
            "_model_name": "HTMLModel",
            "_view_count": null,
            "_view_module": "@jupyter-widgets/controls",
            "_view_module_version": "1.5.0",
            "_view_name": "HTMLView",
            "description": "",
            "description_tooltip": null,
            "layout": "IPY_MODEL_fae3895ed19a4a0eaa3ab0e206f3a31a",
            "placeholder": "​",
            "style": "IPY_MODEL_c0623cc56a3f4504b2557d718842edad",
            "value": "Downloading (…)olve/main/merges.txt: 100%"
          }
        },
        "6ff36ddf12494314bdf8af7f54ca52dc": {
          "model_module": "@jupyter-widgets/controls",
          "model_name": "FloatProgressModel",
          "model_module_version": "1.5.0",
          "state": {
            "_dom_classes": [],
            "_model_module": "@jupyter-widgets/controls",
            "_model_module_version": "1.5.0",
            "_model_name": "FloatProgressModel",
            "_view_count": null,
            "_view_module": "@jupyter-widgets/controls",
            "_view_module_version": "1.5.0",
            "_view_name": "ProgressView",
            "bar_style": "success",
            "description": "",
            "description_tooltip": null,
            "layout": "IPY_MODEL_454f21443b9c453cb5f0ea787f009afc",
            "max": 456356,
            "min": 0,
            "orientation": "horizontal",
            "style": "IPY_MODEL_6a912f0921004dcea6d16d411f4b908b",
            "value": 456356
          }
        },
        "8db717acf2a04a9c9bd03d5502ccf15d": {
          "model_module": "@jupyter-widgets/controls",
          "model_name": "HTMLModel",
          "model_module_version": "1.5.0",
          "state": {
            "_dom_classes": [],
            "_model_module": "@jupyter-widgets/controls",
            "_model_module_version": "1.5.0",
            "_model_name": "HTMLModel",
            "_view_count": null,
            "_view_module": "@jupyter-widgets/controls",
            "_view_module_version": "1.5.0",
            "_view_name": "HTMLView",
            "description": "",
            "description_tooltip": null,
            "layout": "IPY_MODEL_792a03bf98b74d7b98dbab7361de5ada",
            "placeholder": "​",
            "style": "IPY_MODEL_0c1ee9edde9a4e178d7b4cf951a53162",
            "value": " 456k/456k [00:00&lt;00:00, 603kB/s]"
          }
        },
        "7149f0c3d5b04666b986b7ffc086c9e1": {
          "model_module": "@jupyter-widgets/base",
          "model_name": "LayoutModel",
          "model_module_version": "1.2.0",
          "state": {
            "_model_module": "@jupyter-widgets/base",
            "_model_module_version": "1.2.0",
            "_model_name": "LayoutModel",
            "_view_count": null,
            "_view_module": "@jupyter-widgets/base",
            "_view_module_version": "1.2.0",
            "_view_name": "LayoutView",
            "align_content": null,
            "align_items": null,
            "align_self": null,
            "border": null,
            "bottom": null,
            "display": null,
            "flex": null,
            "flex_flow": null,
            "grid_area": null,
            "grid_auto_columns": null,
            "grid_auto_flow": null,
            "grid_auto_rows": null,
            "grid_column": null,
            "grid_gap": null,
            "grid_row": null,
            "grid_template_areas": null,
            "grid_template_columns": null,
            "grid_template_rows": null,
            "height": null,
            "justify_content": null,
            "justify_items": null,
            "left": null,
            "margin": null,
            "max_height": null,
            "max_width": null,
            "min_height": null,
            "min_width": null,
            "object_fit": null,
            "object_position": null,
            "order": null,
            "overflow": null,
            "overflow_x": null,
            "overflow_y": null,
            "padding": null,
            "right": null,
            "top": null,
            "visibility": null,
            "width": null
          }
        },
        "fae3895ed19a4a0eaa3ab0e206f3a31a": {
          "model_module": "@jupyter-widgets/base",
          "model_name": "LayoutModel",
          "model_module_version": "1.2.0",
          "state": {
            "_model_module": "@jupyter-widgets/base",
            "_model_module_version": "1.2.0",
            "_model_name": "LayoutModel",
            "_view_count": null,
            "_view_module": "@jupyter-widgets/base",
            "_view_module_version": "1.2.0",
            "_view_name": "LayoutView",
            "align_content": null,
            "align_items": null,
            "align_self": null,
            "border": null,
            "bottom": null,
            "display": null,
            "flex": null,
            "flex_flow": null,
            "grid_area": null,
            "grid_auto_columns": null,
            "grid_auto_flow": null,
            "grid_auto_rows": null,
            "grid_column": null,
            "grid_gap": null,
            "grid_row": null,
            "grid_template_areas": null,
            "grid_template_columns": null,
            "grid_template_rows": null,
            "height": null,
            "justify_content": null,
            "justify_items": null,
            "left": null,
            "margin": null,
            "max_height": null,
            "max_width": null,
            "min_height": null,
            "min_width": null,
            "object_fit": null,
            "object_position": null,
            "order": null,
            "overflow": null,
            "overflow_x": null,
            "overflow_y": null,
            "padding": null,
            "right": null,
            "top": null,
            "visibility": null,
            "width": null
          }
        },
        "c0623cc56a3f4504b2557d718842edad": {
          "model_module": "@jupyter-widgets/controls",
          "model_name": "DescriptionStyleModel",
          "model_module_version": "1.5.0",
          "state": {
            "_model_module": "@jupyter-widgets/controls",
            "_model_module_version": "1.5.0",
            "_model_name": "DescriptionStyleModel",
            "_view_count": null,
            "_view_module": "@jupyter-widgets/base",
            "_view_module_version": "1.2.0",
            "_view_name": "StyleView",
            "description_width": ""
          }
        },
        "454f21443b9c453cb5f0ea787f009afc": {
          "model_module": "@jupyter-widgets/base",
          "model_name": "LayoutModel",
          "model_module_version": "1.2.0",
          "state": {
            "_model_module": "@jupyter-widgets/base",
            "_model_module_version": "1.2.0",
            "_model_name": "LayoutModel",
            "_view_count": null,
            "_view_module": "@jupyter-widgets/base",
            "_view_module_version": "1.2.0",
            "_view_name": "LayoutView",
            "align_content": null,
            "align_items": null,
            "align_self": null,
            "border": null,
            "bottom": null,
            "display": null,
            "flex": null,
            "flex_flow": null,
            "grid_area": null,
            "grid_auto_columns": null,
            "grid_auto_flow": null,
            "grid_auto_rows": null,
            "grid_column": null,
            "grid_gap": null,
            "grid_row": null,
            "grid_template_areas": null,
            "grid_template_columns": null,
            "grid_template_rows": null,
            "height": null,
            "justify_content": null,
            "justify_items": null,
            "left": null,
            "margin": null,
            "max_height": null,
            "max_width": null,
            "min_height": null,
            "min_width": null,
            "object_fit": null,
            "object_position": null,
            "order": null,
            "overflow": null,
            "overflow_x": null,
            "overflow_y": null,
            "padding": null,
            "right": null,
            "top": null,
            "visibility": null,
            "width": null
          }
        },
        "6a912f0921004dcea6d16d411f4b908b": {
          "model_module": "@jupyter-widgets/controls",
          "model_name": "ProgressStyleModel",
          "model_module_version": "1.5.0",
          "state": {
            "_model_module": "@jupyter-widgets/controls",
            "_model_module_version": "1.5.0",
            "_model_name": "ProgressStyleModel",
            "_view_count": null,
            "_view_module": "@jupyter-widgets/base",
            "_view_module_version": "1.2.0",
            "_view_name": "StyleView",
            "bar_color": null,
            "description_width": ""
          }
        },
        "792a03bf98b74d7b98dbab7361de5ada": {
          "model_module": "@jupyter-widgets/base",
          "model_name": "LayoutModel",
          "model_module_version": "1.2.0",
          "state": {
            "_model_module": "@jupyter-widgets/base",
            "_model_module_version": "1.2.0",
            "_model_name": "LayoutModel",
            "_view_count": null,
            "_view_module": "@jupyter-widgets/base",
            "_view_module_version": "1.2.0",
            "_view_name": "LayoutView",
            "align_content": null,
            "align_items": null,
            "align_self": null,
            "border": null,
            "bottom": null,
            "display": null,
            "flex": null,
            "flex_flow": null,
            "grid_area": null,
            "grid_auto_columns": null,
            "grid_auto_flow": null,
            "grid_auto_rows": null,
            "grid_column": null,
            "grid_gap": null,
            "grid_row": null,
            "grid_template_areas": null,
            "grid_template_columns": null,
            "grid_template_rows": null,
            "height": null,
            "justify_content": null,
            "justify_items": null,
            "left": null,
            "margin": null,
            "max_height": null,
            "max_width": null,
            "min_height": null,
            "min_width": null,
            "object_fit": null,
            "object_position": null,
            "order": null,
            "overflow": null,
            "overflow_x": null,
            "overflow_y": null,
            "padding": null,
            "right": null,
            "top": null,
            "visibility": null,
            "width": null
          }
        },
        "0c1ee9edde9a4e178d7b4cf951a53162": {
          "model_module": "@jupyter-widgets/controls",
          "model_name": "DescriptionStyleModel",
          "model_module_version": "1.5.0",
          "state": {
            "_model_module": "@jupyter-widgets/controls",
            "_model_module_version": "1.5.0",
            "_model_name": "DescriptionStyleModel",
            "_view_count": null,
            "_view_module": "@jupyter-widgets/base",
            "_view_module_version": "1.2.0",
            "_view_name": "StyleView",
            "description_width": ""
          }
        },
        "2e4e9333f6c94903b1d630d4760f4e40": {
          "model_module": "@jupyter-widgets/controls",
          "model_name": "HBoxModel",
          "model_module_version": "1.5.0",
          "state": {
            "_dom_classes": [],
            "_model_module": "@jupyter-widgets/controls",
            "_model_module_version": "1.5.0",
            "_model_name": "HBoxModel",
            "_view_count": null,
            "_view_module": "@jupyter-widgets/controls",
            "_view_module_version": "1.5.0",
            "_view_name": "HBoxView",
            "box_style": "",
            "children": [
              "IPY_MODEL_fd7aa08e850a4357831c07932f521354",
              "IPY_MODEL_f1e7e6ebb7e64de6b8cbfe5dfe3ce739",
              "IPY_MODEL_cecb11c4d6064b9e953bd66b59ddea37"
            ],
            "layout": "IPY_MODEL_853ca22a62af487a9bab208d5e70da93"
          }
        },
        "fd7aa08e850a4357831c07932f521354": {
          "model_module": "@jupyter-widgets/controls",
          "model_name": "HTMLModel",
          "model_module_version": "1.5.0",
          "state": {
            "_dom_classes": [],
            "_model_module": "@jupyter-widgets/controls",
            "_model_module_version": "1.5.0",
            "_model_name": "HTMLModel",
            "_view_count": null,
            "_view_module": "@jupyter-widgets/controls",
            "_view_module_version": "1.5.0",
            "_view_name": "HTMLView",
            "description": "",
            "description_tooltip": null,
            "layout": "IPY_MODEL_64677bc89fb44489af4e5f145cd080e9",
            "placeholder": "​",
            "style": "IPY_MODEL_19729970f6c94164bf669c1ef2838204",
            "value": "Downloading (…)/main/tokenizer.json: 100%"
          }
        },
        "f1e7e6ebb7e64de6b8cbfe5dfe3ce739": {
          "model_module": "@jupyter-widgets/controls",
          "model_name": "FloatProgressModel",
          "model_module_version": "1.5.0",
          "state": {
            "_dom_classes": [],
            "_model_module": "@jupyter-widgets/controls",
            "_model_module_version": "1.5.0",
            "_model_name": "FloatProgressModel",
            "_view_count": null,
            "_view_module": "@jupyter-widgets/controls",
            "_view_module_version": "1.5.0",
            "_view_name": "ProgressView",
            "bar_style": "success",
            "description": "",
            "description_tooltip": null,
            "layout": "IPY_MODEL_76232ae411774794b7f3224f7aaa4571",
            "max": 1356047,
            "min": 0,
            "orientation": "horizontal",
            "style": "IPY_MODEL_da1fc2e1752b4ed1985fe492c967e071",
            "value": 1356047
          }
        },
        "cecb11c4d6064b9e953bd66b59ddea37": {
          "model_module": "@jupyter-widgets/controls",
          "model_name": "HTMLModel",
          "model_module_version": "1.5.0",
          "state": {
            "_dom_classes": [],
            "_model_module": "@jupyter-widgets/controls",
            "_model_module_version": "1.5.0",
            "_model_name": "HTMLModel",
            "_view_count": null,
            "_view_module": "@jupyter-widgets/controls",
            "_view_module_version": "1.5.0",
            "_view_name": "HTMLView",
            "description": "",
            "description_tooltip": null,
            "layout": "IPY_MODEL_2311eed3f52a44bb80c5fecefec3d075",
            "placeholder": "​",
            "style": "IPY_MODEL_218c0f43a6ff4b779d0028ecf0cd10b8",
            "value": " 1.36M/1.36M [00:00&lt;00:00, 1.48MB/s]"
          }
        },
        "853ca22a62af487a9bab208d5e70da93": {
          "model_module": "@jupyter-widgets/base",
          "model_name": "LayoutModel",
          "model_module_version": "1.2.0",
          "state": {
            "_model_module": "@jupyter-widgets/base",
            "_model_module_version": "1.2.0",
            "_model_name": "LayoutModel",
            "_view_count": null,
            "_view_module": "@jupyter-widgets/base",
            "_view_module_version": "1.2.0",
            "_view_name": "LayoutView",
            "align_content": null,
            "align_items": null,
            "align_self": null,
            "border": null,
            "bottom": null,
            "display": null,
            "flex": null,
            "flex_flow": null,
            "grid_area": null,
            "grid_auto_columns": null,
            "grid_auto_flow": null,
            "grid_auto_rows": null,
            "grid_column": null,
            "grid_gap": null,
            "grid_row": null,
            "grid_template_areas": null,
            "grid_template_columns": null,
            "grid_template_rows": null,
            "height": null,
            "justify_content": null,
            "justify_items": null,
            "left": null,
            "margin": null,
            "max_height": null,
            "max_width": null,
            "min_height": null,
            "min_width": null,
            "object_fit": null,
            "object_position": null,
            "order": null,
            "overflow": null,
            "overflow_x": null,
            "overflow_y": null,
            "padding": null,
            "right": null,
            "top": null,
            "visibility": null,
            "width": null
          }
        },
        "64677bc89fb44489af4e5f145cd080e9": {
          "model_module": "@jupyter-widgets/base",
          "model_name": "LayoutModel",
          "model_module_version": "1.2.0",
          "state": {
            "_model_module": "@jupyter-widgets/base",
            "_model_module_version": "1.2.0",
            "_model_name": "LayoutModel",
            "_view_count": null,
            "_view_module": "@jupyter-widgets/base",
            "_view_module_version": "1.2.0",
            "_view_name": "LayoutView",
            "align_content": null,
            "align_items": null,
            "align_self": null,
            "border": null,
            "bottom": null,
            "display": null,
            "flex": null,
            "flex_flow": null,
            "grid_area": null,
            "grid_auto_columns": null,
            "grid_auto_flow": null,
            "grid_auto_rows": null,
            "grid_column": null,
            "grid_gap": null,
            "grid_row": null,
            "grid_template_areas": null,
            "grid_template_columns": null,
            "grid_template_rows": null,
            "height": null,
            "justify_content": null,
            "justify_items": null,
            "left": null,
            "margin": null,
            "max_height": null,
            "max_width": null,
            "min_height": null,
            "min_width": null,
            "object_fit": null,
            "object_position": null,
            "order": null,
            "overflow": null,
            "overflow_x": null,
            "overflow_y": null,
            "padding": null,
            "right": null,
            "top": null,
            "visibility": null,
            "width": null
          }
        },
        "19729970f6c94164bf669c1ef2838204": {
          "model_module": "@jupyter-widgets/controls",
          "model_name": "DescriptionStyleModel",
          "model_module_version": "1.5.0",
          "state": {
            "_model_module": "@jupyter-widgets/controls",
            "_model_module_version": "1.5.0",
            "_model_name": "DescriptionStyleModel",
            "_view_count": null,
            "_view_module": "@jupyter-widgets/base",
            "_view_module_version": "1.2.0",
            "_view_name": "StyleView",
            "description_width": ""
          }
        },
        "76232ae411774794b7f3224f7aaa4571": {
          "model_module": "@jupyter-widgets/base",
          "model_name": "LayoutModel",
          "model_module_version": "1.2.0",
          "state": {
            "_model_module": "@jupyter-widgets/base",
            "_model_module_version": "1.2.0",
            "_model_name": "LayoutModel",
            "_view_count": null,
            "_view_module": "@jupyter-widgets/base",
            "_view_module_version": "1.2.0",
            "_view_name": "LayoutView",
            "align_content": null,
            "align_items": null,
            "align_self": null,
            "border": null,
            "bottom": null,
            "display": null,
            "flex": null,
            "flex_flow": null,
            "grid_area": null,
            "grid_auto_columns": null,
            "grid_auto_flow": null,
            "grid_auto_rows": null,
            "grid_column": null,
            "grid_gap": null,
            "grid_row": null,
            "grid_template_areas": null,
            "grid_template_columns": null,
            "grid_template_rows": null,
            "height": null,
            "justify_content": null,
            "justify_items": null,
            "left": null,
            "margin": null,
            "max_height": null,
            "max_width": null,
            "min_height": null,
            "min_width": null,
            "object_fit": null,
            "object_position": null,
            "order": null,
            "overflow": null,
            "overflow_x": null,
            "overflow_y": null,
            "padding": null,
            "right": null,
            "top": null,
            "visibility": null,
            "width": null
          }
        },
        "da1fc2e1752b4ed1985fe492c967e071": {
          "model_module": "@jupyter-widgets/controls",
          "model_name": "ProgressStyleModel",
          "model_module_version": "1.5.0",
          "state": {
            "_model_module": "@jupyter-widgets/controls",
            "_model_module_version": "1.5.0",
            "_model_name": "ProgressStyleModel",
            "_view_count": null,
            "_view_module": "@jupyter-widgets/base",
            "_view_module_version": "1.2.0",
            "_view_name": "StyleView",
            "bar_color": null,
            "description_width": ""
          }
        },
        "2311eed3f52a44bb80c5fecefec3d075": {
          "model_module": "@jupyter-widgets/base",
          "model_name": "LayoutModel",
          "model_module_version": "1.2.0",
          "state": {
            "_model_module": "@jupyter-widgets/base",
            "_model_module_version": "1.2.0",
            "_model_name": "LayoutModel",
            "_view_count": null,
            "_view_module": "@jupyter-widgets/base",
            "_view_module_version": "1.2.0",
            "_view_name": "LayoutView",
            "align_content": null,
            "align_items": null,
            "align_self": null,
            "border": null,
            "bottom": null,
            "display": null,
            "flex": null,
            "flex_flow": null,
            "grid_area": null,
            "grid_auto_columns": null,
            "grid_auto_flow": null,
            "grid_auto_rows": null,
            "grid_column": null,
            "grid_gap": null,
            "grid_row": null,
            "grid_template_areas": null,
            "grid_template_columns": null,
            "grid_template_rows": null,
            "height": null,
            "justify_content": null,
            "justify_items": null,
            "left": null,
            "margin": null,
            "max_height": null,
            "max_width": null,
            "min_height": null,
            "min_width": null,
            "object_fit": null,
            "object_position": null,
            "order": null,
            "overflow": null,
            "overflow_x": null,
            "overflow_y": null,
            "padding": null,
            "right": null,
            "top": null,
            "visibility": null,
            "width": null
          }
        },
        "218c0f43a6ff4b779d0028ecf0cd10b8": {
          "model_module": "@jupyter-widgets/controls",
          "model_name": "DescriptionStyleModel",
          "model_module_version": "1.5.0",
          "state": {
            "_model_module": "@jupyter-widgets/controls",
            "_model_module_version": "1.5.0",
            "_model_name": "DescriptionStyleModel",
            "_view_count": null,
            "_view_module": "@jupyter-widgets/base",
            "_view_module_version": "1.2.0",
            "_view_name": "StyleView",
            "description_width": ""
          }
        },
        "95234a2e4ddc444fa1e27ee8df336ce8": {
          "model_module": "@jupyter-widgets/controls",
          "model_name": "HBoxModel",
          "model_module_version": "1.5.0",
          "state": {
            "_dom_classes": [],
            "_model_module": "@jupyter-widgets/controls",
            "_model_module_version": "1.5.0",
            "_model_name": "HBoxModel",
            "_view_count": null,
            "_view_module": "@jupyter-widgets/controls",
            "_view_module_version": "1.5.0",
            "_view_name": "HBoxView",
            "box_style": "",
            "children": [
              "IPY_MODEL_d7c95623274345b9ad1af9cfedebc5b9",
              "IPY_MODEL_9016ceb7f74d49378a68ba93ac2a6171",
              "IPY_MODEL_7e971af85ba24761b9711ee7c2804450"
            ],
            "layout": "IPY_MODEL_95dc4b20e32f4a079f6b652dfcb94ed2"
          }
        },
        "d7c95623274345b9ad1af9cfedebc5b9": {
          "model_module": "@jupyter-widgets/controls",
          "model_name": "HTMLModel",
          "model_module_version": "1.5.0",
          "state": {
            "_dom_classes": [],
            "_model_module": "@jupyter-widgets/controls",
            "_model_module_version": "1.5.0",
            "_model_name": "HTMLModel",
            "_view_count": null,
            "_view_module": "@jupyter-widgets/controls",
            "_view_module_version": "1.5.0",
            "_view_name": "HTMLView",
            "description": "",
            "description_tooltip": null,
            "layout": "IPY_MODEL_d10acde0c26a4529a68a4940d6f7eaa3",
            "placeholder": "​",
            "style": "IPY_MODEL_82b2fedfb5d74b9690abc984e2cba70c",
            "value": "Downloading (…)cial_tokens_map.json: 100%"
          }
        },
        "9016ceb7f74d49378a68ba93ac2a6171": {
          "model_module": "@jupyter-widgets/controls",
          "model_name": "FloatProgressModel",
          "model_module_version": "1.5.0",
          "state": {
            "_dom_classes": [],
            "_model_module": "@jupyter-widgets/controls",
            "_model_module_version": "1.5.0",
            "_model_name": "FloatProgressModel",
            "_view_count": null,
            "_view_module": "@jupyter-widgets/controls",
            "_view_module_version": "1.5.0",
            "_view_name": "ProgressView",
            "bar_style": "success",
            "description": "",
            "description_tooltip": null,
            "layout": "IPY_MODEL_cbbbbe9eb05f49eca37b6b9629faed4e",
            "max": 239,
            "min": 0,
            "orientation": "horizontal",
            "style": "IPY_MODEL_946eaba2ebfb4932b62e0387060039e9",
            "value": 239
          }
        },
        "7e971af85ba24761b9711ee7c2804450": {
          "model_module": "@jupyter-widgets/controls",
          "model_name": "HTMLModel",
          "model_module_version": "1.5.0",
          "state": {
            "_dom_classes": [],
            "_model_module": "@jupyter-widgets/controls",
            "_model_module_version": "1.5.0",
            "_model_name": "HTMLModel",
            "_view_count": null,
            "_view_module": "@jupyter-widgets/controls",
            "_view_module_version": "1.5.0",
            "_view_name": "HTMLView",
            "description": "",
            "description_tooltip": null,
            "layout": "IPY_MODEL_a2f1a35b72a64055bf19fab7c6566b89",
            "placeholder": "​",
            "style": "IPY_MODEL_593e1df5779b4793bb0e1766e1272390",
            "value": " 239/239 [00:00&lt;00:00, 14.7kB/s]"
          }
        },
        "95dc4b20e32f4a079f6b652dfcb94ed2": {
          "model_module": "@jupyter-widgets/base",
          "model_name": "LayoutModel",
          "model_module_version": "1.2.0",
          "state": {
            "_model_module": "@jupyter-widgets/base",
            "_model_module_version": "1.2.0",
            "_model_name": "LayoutModel",
            "_view_count": null,
            "_view_module": "@jupyter-widgets/base",
            "_view_module_version": "1.2.0",
            "_view_name": "LayoutView",
            "align_content": null,
            "align_items": null,
            "align_self": null,
            "border": null,
            "bottom": null,
            "display": null,
            "flex": null,
            "flex_flow": null,
            "grid_area": null,
            "grid_auto_columns": null,
            "grid_auto_flow": null,
            "grid_auto_rows": null,
            "grid_column": null,
            "grid_gap": null,
            "grid_row": null,
            "grid_template_areas": null,
            "grid_template_columns": null,
            "grid_template_rows": null,
            "height": null,
            "justify_content": null,
            "justify_items": null,
            "left": null,
            "margin": null,
            "max_height": null,
            "max_width": null,
            "min_height": null,
            "min_width": null,
            "object_fit": null,
            "object_position": null,
            "order": null,
            "overflow": null,
            "overflow_x": null,
            "overflow_y": null,
            "padding": null,
            "right": null,
            "top": null,
            "visibility": null,
            "width": null
          }
        },
        "d10acde0c26a4529a68a4940d6f7eaa3": {
          "model_module": "@jupyter-widgets/base",
          "model_name": "LayoutModel",
          "model_module_version": "1.2.0",
          "state": {
            "_model_module": "@jupyter-widgets/base",
            "_model_module_version": "1.2.0",
            "_model_name": "LayoutModel",
            "_view_count": null,
            "_view_module": "@jupyter-widgets/base",
            "_view_module_version": "1.2.0",
            "_view_name": "LayoutView",
            "align_content": null,
            "align_items": null,
            "align_self": null,
            "border": null,
            "bottom": null,
            "display": null,
            "flex": null,
            "flex_flow": null,
            "grid_area": null,
            "grid_auto_columns": null,
            "grid_auto_flow": null,
            "grid_auto_rows": null,
            "grid_column": null,
            "grid_gap": null,
            "grid_row": null,
            "grid_template_areas": null,
            "grid_template_columns": null,
            "grid_template_rows": null,
            "height": null,
            "justify_content": null,
            "justify_items": null,
            "left": null,
            "margin": null,
            "max_height": null,
            "max_width": null,
            "min_height": null,
            "min_width": null,
            "object_fit": null,
            "object_position": null,
            "order": null,
            "overflow": null,
            "overflow_x": null,
            "overflow_y": null,
            "padding": null,
            "right": null,
            "top": null,
            "visibility": null,
            "width": null
          }
        },
        "82b2fedfb5d74b9690abc984e2cba70c": {
          "model_module": "@jupyter-widgets/controls",
          "model_name": "DescriptionStyleModel",
          "model_module_version": "1.5.0",
          "state": {
            "_model_module": "@jupyter-widgets/controls",
            "_model_module_version": "1.5.0",
            "_model_name": "DescriptionStyleModel",
            "_view_count": null,
            "_view_module": "@jupyter-widgets/base",
            "_view_module_version": "1.2.0",
            "_view_name": "StyleView",
            "description_width": ""
          }
        },
        "cbbbbe9eb05f49eca37b6b9629faed4e": {
          "model_module": "@jupyter-widgets/base",
          "model_name": "LayoutModel",
          "model_module_version": "1.2.0",
          "state": {
            "_model_module": "@jupyter-widgets/base",
            "_model_module_version": "1.2.0",
            "_model_name": "LayoutModel",
            "_view_count": null,
            "_view_module": "@jupyter-widgets/base",
            "_view_module_version": "1.2.0",
            "_view_name": "LayoutView",
            "align_content": null,
            "align_items": null,
            "align_self": null,
            "border": null,
            "bottom": null,
            "display": null,
            "flex": null,
            "flex_flow": null,
            "grid_area": null,
            "grid_auto_columns": null,
            "grid_auto_flow": null,
            "grid_auto_rows": null,
            "grid_column": null,
            "grid_gap": null,
            "grid_row": null,
            "grid_template_areas": null,
            "grid_template_columns": null,
            "grid_template_rows": null,
            "height": null,
            "justify_content": null,
            "justify_items": null,
            "left": null,
            "margin": null,
            "max_height": null,
            "max_width": null,
            "min_height": null,
            "min_width": null,
            "object_fit": null,
            "object_position": null,
            "order": null,
            "overflow": null,
            "overflow_x": null,
            "overflow_y": null,
            "padding": null,
            "right": null,
            "top": null,
            "visibility": null,
            "width": null
          }
        },
        "946eaba2ebfb4932b62e0387060039e9": {
          "model_module": "@jupyter-widgets/controls",
          "model_name": "ProgressStyleModel",
          "model_module_version": "1.5.0",
          "state": {
            "_model_module": "@jupyter-widgets/controls",
            "_model_module_version": "1.5.0",
            "_model_name": "ProgressStyleModel",
            "_view_count": null,
            "_view_module": "@jupyter-widgets/base",
            "_view_module_version": "1.2.0",
            "_view_name": "StyleView",
            "bar_color": null,
            "description_width": ""
          }
        },
        "a2f1a35b72a64055bf19fab7c6566b89": {
          "model_module": "@jupyter-widgets/base",
          "model_name": "LayoutModel",
          "model_module_version": "1.2.0",
          "state": {
            "_model_module": "@jupyter-widgets/base",
            "_model_module_version": "1.2.0",
            "_model_name": "LayoutModel",
            "_view_count": null,
            "_view_module": "@jupyter-widgets/base",
            "_view_module_version": "1.2.0",
            "_view_name": "LayoutView",
            "align_content": null,
            "align_items": null,
            "align_self": null,
            "border": null,
            "bottom": null,
            "display": null,
            "flex": null,
            "flex_flow": null,
            "grid_area": null,
            "grid_auto_columns": null,
            "grid_auto_flow": null,
            "grid_auto_rows": null,
            "grid_column": null,
            "grid_gap": null,
            "grid_row": null,
            "grid_template_areas": null,
            "grid_template_columns": null,
            "grid_template_rows": null,
            "height": null,
            "justify_content": null,
            "justify_items": null,
            "left": null,
            "margin": null,
            "max_height": null,
            "max_width": null,
            "min_height": null,
            "min_width": null,
            "object_fit": null,
            "object_position": null,
            "order": null,
            "overflow": null,
            "overflow_x": null,
            "overflow_y": null,
            "padding": null,
            "right": null,
            "top": null,
            "visibility": null,
            "width": null
          }
        },
        "593e1df5779b4793bb0e1766e1272390": {
          "model_module": "@jupyter-widgets/controls",
          "model_name": "DescriptionStyleModel",
          "model_module_version": "1.5.0",
          "state": {
            "_model_module": "@jupyter-widgets/controls",
            "_model_module_version": "1.5.0",
            "_model_name": "DescriptionStyleModel",
            "_view_count": null,
            "_view_module": "@jupyter-widgets/base",
            "_view_module_version": "1.2.0",
            "_view_name": "StyleView",
            "description_width": ""
          }
        },
        "ef70362eb7eb42578a7d6d5cd8e7e739": {
          "model_module": "@jupyter-widgets/controls",
          "model_name": "HBoxModel",
          "model_module_version": "1.5.0",
          "state": {
            "_dom_classes": [],
            "_model_module": "@jupyter-widgets/controls",
            "_model_module_version": "1.5.0",
            "_model_name": "HBoxModel",
            "_view_count": null,
            "_view_module": "@jupyter-widgets/controls",
            "_view_module_version": "1.5.0",
            "_view_name": "HBoxView",
            "box_style": "",
            "children": [
              "IPY_MODEL_18a8dcfe4db54205b59a38f81058c0c7",
              "IPY_MODEL_468f436f2cde4ca282c13fb8947c556e",
              "IPY_MODEL_6cd8c03711394e56bdf344c59e21004f"
            ],
            "layout": "IPY_MODEL_478d6e5eea184bd6b44c09565b55c1f0"
          }
        },
        "18a8dcfe4db54205b59a38f81058c0c7": {
          "model_module": "@jupyter-widgets/controls",
          "model_name": "HTMLModel",
          "model_module_version": "1.5.0",
          "state": {
            "_dom_classes": [],
            "_model_module": "@jupyter-widgets/controls",
            "_model_module_version": "1.5.0",
            "_model_name": "HTMLModel",
            "_view_count": null,
            "_view_module": "@jupyter-widgets/controls",
            "_view_module_version": "1.5.0",
            "_view_name": "HTMLView",
            "description": "",
            "description_tooltip": null,
            "layout": "IPY_MODEL_cb9f4aa52de14d14bba35d43f884fc9e",
            "placeholder": "​",
            "style": "IPY_MODEL_25fe3eba1ae0495b81be2ca60c537b3a",
            "value": "Downloading (…)lve/main/config.json: 100%"
          }
        },
        "468f436f2cde4ca282c13fb8947c556e": {
          "model_module": "@jupyter-widgets/controls",
          "model_name": "FloatProgressModel",
          "model_module_version": "1.5.0",
          "state": {
            "_dom_classes": [],
            "_model_module": "@jupyter-widgets/controls",
            "_model_module_version": "1.5.0",
            "_model_name": "FloatProgressModel",
            "_view_count": null,
            "_view_module": "@jupyter-widgets/controls",
            "_view_module_version": "1.5.0",
            "_view_name": "ProgressView",
            "bar_style": "success",
            "description": "",
            "description_tooltip": null,
            "layout": "IPY_MODEL_6b1afa740c5c47a58c9bd812328c2d84",
            "max": 650,
            "min": 0,
            "orientation": "horizontal",
            "style": "IPY_MODEL_4f226a37edb24496a759e628cde03a4e",
            "value": 650
          }
        },
        "6cd8c03711394e56bdf344c59e21004f": {
          "model_module": "@jupyter-widgets/controls",
          "model_name": "HTMLModel",
          "model_module_version": "1.5.0",
          "state": {
            "_dom_classes": [],
            "_model_module": "@jupyter-widgets/controls",
            "_model_module_version": "1.5.0",
            "_model_name": "HTMLModel",
            "_view_count": null,
            "_view_module": "@jupyter-widgets/controls",
            "_view_module_version": "1.5.0",
            "_view_name": "HTMLView",
            "description": "",
            "description_tooltip": null,
            "layout": "IPY_MODEL_b2ffbb5cd90d4ce097b728943b505cfa",
            "placeholder": "​",
            "style": "IPY_MODEL_bc862ecf2d1340b5919309f5f31c1559",
            "value": " 650/650 [00:00&lt;00:00, 22.2kB/s]"
          }
        },
        "478d6e5eea184bd6b44c09565b55c1f0": {
          "model_module": "@jupyter-widgets/base",
          "model_name": "LayoutModel",
          "model_module_version": "1.2.0",
          "state": {
            "_model_module": "@jupyter-widgets/base",
            "_model_module_version": "1.2.0",
            "_model_name": "LayoutModel",
            "_view_count": null,
            "_view_module": "@jupyter-widgets/base",
            "_view_module_version": "1.2.0",
            "_view_name": "LayoutView",
            "align_content": null,
            "align_items": null,
            "align_self": null,
            "border": null,
            "bottom": null,
            "display": null,
            "flex": null,
            "flex_flow": null,
            "grid_area": null,
            "grid_auto_columns": null,
            "grid_auto_flow": null,
            "grid_auto_rows": null,
            "grid_column": null,
            "grid_gap": null,
            "grid_row": null,
            "grid_template_areas": null,
            "grid_template_columns": null,
            "grid_template_rows": null,
            "height": null,
            "justify_content": null,
            "justify_items": null,
            "left": null,
            "margin": null,
            "max_height": null,
            "max_width": null,
            "min_height": null,
            "min_width": null,
            "object_fit": null,
            "object_position": null,
            "order": null,
            "overflow": null,
            "overflow_x": null,
            "overflow_y": null,
            "padding": null,
            "right": null,
            "top": null,
            "visibility": null,
            "width": null
          }
        },
        "cb9f4aa52de14d14bba35d43f884fc9e": {
          "model_module": "@jupyter-widgets/base",
          "model_name": "LayoutModel",
          "model_module_version": "1.2.0",
          "state": {
            "_model_module": "@jupyter-widgets/base",
            "_model_module_version": "1.2.0",
            "_model_name": "LayoutModel",
            "_view_count": null,
            "_view_module": "@jupyter-widgets/base",
            "_view_module_version": "1.2.0",
            "_view_name": "LayoutView",
            "align_content": null,
            "align_items": null,
            "align_self": null,
            "border": null,
            "bottom": null,
            "display": null,
            "flex": null,
            "flex_flow": null,
            "grid_area": null,
            "grid_auto_columns": null,
            "grid_auto_flow": null,
            "grid_auto_rows": null,
            "grid_column": null,
            "grid_gap": null,
            "grid_row": null,
            "grid_template_areas": null,
            "grid_template_columns": null,
            "grid_template_rows": null,
            "height": null,
            "justify_content": null,
            "justify_items": null,
            "left": null,
            "margin": null,
            "max_height": null,
            "max_width": null,
            "min_height": null,
            "min_width": null,
            "object_fit": null,
            "object_position": null,
            "order": null,
            "overflow": null,
            "overflow_x": null,
            "overflow_y": null,
            "padding": null,
            "right": null,
            "top": null,
            "visibility": null,
            "width": null
          }
        },
        "25fe3eba1ae0495b81be2ca60c537b3a": {
          "model_module": "@jupyter-widgets/controls",
          "model_name": "DescriptionStyleModel",
          "model_module_version": "1.5.0",
          "state": {
            "_model_module": "@jupyter-widgets/controls",
            "_model_module_version": "1.5.0",
            "_model_name": "DescriptionStyleModel",
            "_view_count": null,
            "_view_module": "@jupyter-widgets/base",
            "_view_module_version": "1.2.0",
            "_view_name": "StyleView",
            "description_width": ""
          }
        },
        "6b1afa740c5c47a58c9bd812328c2d84": {
          "model_module": "@jupyter-widgets/base",
          "model_name": "LayoutModel",
          "model_module_version": "1.2.0",
          "state": {
            "_model_module": "@jupyter-widgets/base",
            "_model_module_version": "1.2.0",
            "_model_name": "LayoutModel",
            "_view_count": null,
            "_view_module": "@jupyter-widgets/base",
            "_view_module_version": "1.2.0",
            "_view_name": "LayoutView",
            "align_content": null,
            "align_items": null,
            "align_self": null,
            "border": null,
            "bottom": null,
            "display": null,
            "flex": null,
            "flex_flow": null,
            "grid_area": null,
            "grid_auto_columns": null,
            "grid_auto_flow": null,
            "grid_auto_rows": null,
            "grid_column": null,
            "grid_gap": null,
            "grid_row": null,
            "grid_template_areas": null,
            "grid_template_columns": null,
            "grid_template_rows": null,
            "height": null,
            "justify_content": null,
            "justify_items": null,
            "left": null,
            "margin": null,
            "max_height": null,
            "max_width": null,
            "min_height": null,
            "min_width": null,
            "object_fit": null,
            "object_position": null,
            "order": null,
            "overflow": null,
            "overflow_x": null,
            "overflow_y": null,
            "padding": null,
            "right": null,
            "top": null,
            "visibility": null,
            "width": null
          }
        },
        "4f226a37edb24496a759e628cde03a4e": {
          "model_module": "@jupyter-widgets/controls",
          "model_name": "ProgressStyleModel",
          "model_module_version": "1.5.0",
          "state": {
            "_model_module": "@jupyter-widgets/controls",
            "_model_module_version": "1.5.0",
            "_model_name": "ProgressStyleModel",
            "_view_count": null,
            "_view_module": "@jupyter-widgets/base",
            "_view_module_version": "1.2.0",
            "_view_name": "StyleView",
            "bar_color": null,
            "description_width": ""
          }
        },
        "b2ffbb5cd90d4ce097b728943b505cfa": {
          "model_module": "@jupyter-widgets/base",
          "model_name": "LayoutModel",
          "model_module_version": "1.2.0",
          "state": {
            "_model_module": "@jupyter-widgets/base",
            "_model_module_version": "1.2.0",
            "_model_name": "LayoutModel",
            "_view_count": null,
            "_view_module": "@jupyter-widgets/base",
            "_view_module_version": "1.2.0",
            "_view_name": "LayoutView",
            "align_content": null,
            "align_items": null,
            "align_self": null,
            "border": null,
            "bottom": null,
            "display": null,
            "flex": null,
            "flex_flow": null,
            "grid_area": null,
            "grid_auto_columns": null,
            "grid_auto_flow": null,
            "grid_auto_rows": null,
            "grid_column": null,
            "grid_gap": null,
            "grid_row": null,
            "grid_template_areas": null,
            "grid_template_columns": null,
            "grid_template_rows": null,
            "height": null,
            "justify_content": null,
            "justify_items": null,
            "left": null,
            "margin": null,
            "max_height": null,
            "max_width": null,
            "min_height": null,
            "min_width": null,
            "object_fit": null,
            "object_position": null,
            "order": null,
            "overflow": null,
            "overflow_x": null,
            "overflow_y": null,
            "padding": null,
            "right": null,
            "top": null,
            "visibility": null,
            "width": null
          }
        },
        "bc862ecf2d1340b5919309f5f31c1559": {
          "model_module": "@jupyter-widgets/controls",
          "model_name": "DescriptionStyleModel",
          "model_module_version": "1.5.0",
          "state": {
            "_model_module": "@jupyter-widgets/controls",
            "_model_module_version": "1.5.0",
            "_model_name": "DescriptionStyleModel",
            "_view_count": null,
            "_view_module": "@jupyter-widgets/base",
            "_view_module_version": "1.2.0",
            "_view_name": "StyleView",
            "description_width": ""
          }
        },
        "ddcb5d9d8e614fdbb40fedff9ae63e15": {
          "model_module": "@jupyter-widgets/controls",
          "model_name": "HBoxModel",
          "model_module_version": "1.5.0",
          "state": {
            "_dom_classes": [],
            "_model_module": "@jupyter-widgets/controls",
            "_model_module_version": "1.5.0",
            "_model_name": "HBoxModel",
            "_view_count": null,
            "_view_module": "@jupyter-widgets/controls",
            "_view_module_version": "1.5.0",
            "_view_name": "HBoxView",
            "box_style": "",
            "children": [
              "IPY_MODEL_b779a73f677e4d7484a1986f68d4fc7a",
              "IPY_MODEL_946dcc9ecb974709815135a385f5bb3e",
              "IPY_MODEL_8a2e11daea3642eab940f4e0ed804ff0"
            ],
            "layout": "IPY_MODEL_ed5925190ec84aec9328a1ddc3a1ea16"
          }
        },
        "b779a73f677e4d7484a1986f68d4fc7a": {
          "model_module": "@jupyter-widgets/controls",
          "model_name": "HTMLModel",
          "model_module_version": "1.5.0",
          "state": {
            "_dom_classes": [],
            "_model_module": "@jupyter-widgets/controls",
            "_model_module_version": "1.5.0",
            "_model_name": "HTMLModel",
            "_view_count": null,
            "_view_module": "@jupyter-widgets/controls",
            "_view_module_version": "1.5.0",
            "_view_name": "HTMLView",
            "description": "",
            "description_tooltip": null,
            "layout": "IPY_MODEL_e3818c78a4594088805d36a8011c3c00",
            "placeholder": "​",
            "style": "IPY_MODEL_d4121bf2bef8492798653cd012da52e2",
            "value": "Downloading pytorch_model.bin: 100%"
          }
        },
        "946dcc9ecb974709815135a385f5bb3e": {
          "model_module": "@jupyter-widgets/controls",
          "model_name": "FloatProgressModel",
          "model_module_version": "1.5.0",
          "state": {
            "_dom_classes": [],
            "_model_module": "@jupyter-widgets/controls",
            "_model_module_version": "1.5.0",
            "_model_name": "FloatProgressModel",
            "_view_count": null,
            "_view_module": "@jupyter-widgets/controls",
            "_view_module_version": "1.5.0",
            "_view_name": "ProgressView",
            "bar_style": "success",
            "description": "",
            "description_tooltip": null,
            "layout": "IPY_MODEL_d1b3f8c29d3b41b6a11cf32b95a18676",
            "max": 1421566897,
            "min": 0,
            "orientation": "horizontal",
            "style": "IPY_MODEL_d429663b351a4061abf89302c96ca9f8",
            "value": 1421566897
          }
        },
        "8a2e11daea3642eab940f4e0ed804ff0": {
          "model_module": "@jupyter-widgets/controls",
          "model_name": "HTMLModel",
          "model_module_version": "1.5.0",
          "state": {
            "_dom_classes": [],
            "_model_module": "@jupyter-widgets/controls",
            "_model_module_version": "1.5.0",
            "_model_name": "HTMLModel",
            "_view_count": null,
            "_view_module": "@jupyter-widgets/controls",
            "_view_module_version": "1.5.0",
            "_view_name": "HTMLView",
            "description": "",
            "description_tooltip": null,
            "layout": "IPY_MODEL_ee4523d4cb1746dc9a6945bca938142d",
            "placeholder": "​",
            "style": "IPY_MODEL_21742f6a89db4152b0fa7f4d7f3c6361",
            "value": " 1.42G/1.42G [01:03&lt;00:00, 21.3MB/s]"
          }
        },
        "ed5925190ec84aec9328a1ddc3a1ea16": {
          "model_module": "@jupyter-widgets/base",
          "model_name": "LayoutModel",
          "model_module_version": "1.2.0",
          "state": {
            "_model_module": "@jupyter-widgets/base",
            "_model_module_version": "1.2.0",
            "_model_name": "LayoutModel",
            "_view_count": null,
            "_view_module": "@jupyter-widgets/base",
            "_view_module_version": "1.2.0",
            "_view_name": "LayoutView",
            "align_content": null,
            "align_items": null,
            "align_self": null,
            "border": null,
            "bottom": null,
            "display": null,
            "flex": null,
            "flex_flow": null,
            "grid_area": null,
            "grid_auto_columns": null,
            "grid_auto_flow": null,
            "grid_auto_rows": null,
            "grid_column": null,
            "grid_gap": null,
            "grid_row": null,
            "grid_template_areas": null,
            "grid_template_columns": null,
            "grid_template_rows": null,
            "height": null,
            "justify_content": null,
            "justify_items": null,
            "left": null,
            "margin": null,
            "max_height": null,
            "max_width": null,
            "min_height": null,
            "min_width": null,
            "object_fit": null,
            "object_position": null,
            "order": null,
            "overflow": null,
            "overflow_x": null,
            "overflow_y": null,
            "padding": null,
            "right": null,
            "top": null,
            "visibility": null,
            "width": null
          }
        },
        "e3818c78a4594088805d36a8011c3c00": {
          "model_module": "@jupyter-widgets/base",
          "model_name": "LayoutModel",
          "model_module_version": "1.2.0",
          "state": {
            "_model_module": "@jupyter-widgets/base",
            "_model_module_version": "1.2.0",
            "_model_name": "LayoutModel",
            "_view_count": null,
            "_view_module": "@jupyter-widgets/base",
            "_view_module_version": "1.2.0",
            "_view_name": "LayoutView",
            "align_content": null,
            "align_items": null,
            "align_self": null,
            "border": null,
            "bottom": null,
            "display": null,
            "flex": null,
            "flex_flow": null,
            "grid_area": null,
            "grid_auto_columns": null,
            "grid_auto_flow": null,
            "grid_auto_rows": null,
            "grid_column": null,
            "grid_gap": null,
            "grid_row": null,
            "grid_template_areas": null,
            "grid_template_columns": null,
            "grid_template_rows": null,
            "height": null,
            "justify_content": null,
            "justify_items": null,
            "left": null,
            "margin": null,
            "max_height": null,
            "max_width": null,
            "min_height": null,
            "min_width": null,
            "object_fit": null,
            "object_position": null,
            "order": null,
            "overflow": null,
            "overflow_x": null,
            "overflow_y": null,
            "padding": null,
            "right": null,
            "top": null,
            "visibility": null,
            "width": null
          }
        },
        "d4121bf2bef8492798653cd012da52e2": {
          "model_module": "@jupyter-widgets/controls",
          "model_name": "DescriptionStyleModel",
          "model_module_version": "1.5.0",
          "state": {
            "_model_module": "@jupyter-widgets/controls",
            "_model_module_version": "1.5.0",
            "_model_name": "DescriptionStyleModel",
            "_view_count": null,
            "_view_module": "@jupyter-widgets/base",
            "_view_module_version": "1.2.0",
            "_view_name": "StyleView",
            "description_width": ""
          }
        },
        "d1b3f8c29d3b41b6a11cf32b95a18676": {
          "model_module": "@jupyter-widgets/base",
          "model_name": "LayoutModel",
          "model_module_version": "1.2.0",
          "state": {
            "_model_module": "@jupyter-widgets/base",
            "_model_module_version": "1.2.0",
            "_model_name": "LayoutModel",
            "_view_count": null,
            "_view_module": "@jupyter-widgets/base",
            "_view_module_version": "1.2.0",
            "_view_name": "LayoutView",
            "align_content": null,
            "align_items": null,
            "align_self": null,
            "border": null,
            "bottom": null,
            "display": null,
            "flex": null,
            "flex_flow": null,
            "grid_area": null,
            "grid_auto_columns": null,
            "grid_auto_flow": null,
            "grid_auto_rows": null,
            "grid_column": null,
            "grid_gap": null,
            "grid_row": null,
            "grid_template_areas": null,
            "grid_template_columns": null,
            "grid_template_rows": null,
            "height": null,
            "justify_content": null,
            "justify_items": null,
            "left": null,
            "margin": null,
            "max_height": null,
            "max_width": null,
            "min_height": null,
            "min_width": null,
            "object_fit": null,
            "object_position": null,
            "order": null,
            "overflow": null,
            "overflow_x": null,
            "overflow_y": null,
            "padding": null,
            "right": null,
            "top": null,
            "visibility": null,
            "width": null
          }
        },
        "d429663b351a4061abf89302c96ca9f8": {
          "model_module": "@jupyter-widgets/controls",
          "model_name": "ProgressStyleModel",
          "model_module_version": "1.5.0",
          "state": {
            "_model_module": "@jupyter-widgets/controls",
            "_model_module_version": "1.5.0",
            "_model_name": "ProgressStyleModel",
            "_view_count": null,
            "_view_module": "@jupyter-widgets/base",
            "_view_module_version": "1.2.0",
            "_view_name": "StyleView",
            "bar_color": null,
            "description_width": ""
          }
        },
        "ee4523d4cb1746dc9a6945bca938142d": {
          "model_module": "@jupyter-widgets/base",
          "model_name": "LayoutModel",
          "model_module_version": "1.2.0",
          "state": {
            "_model_module": "@jupyter-widgets/base",
            "_model_module_version": "1.2.0",
            "_model_name": "LayoutModel",
            "_view_count": null,
            "_view_module": "@jupyter-widgets/base",
            "_view_module_version": "1.2.0",
            "_view_name": "LayoutView",
            "align_content": null,
            "align_items": null,
            "align_self": null,
            "border": null,
            "bottom": null,
            "display": null,
            "flex": null,
            "flex_flow": null,
            "grid_area": null,
            "grid_auto_columns": null,
            "grid_auto_flow": null,
            "grid_auto_rows": null,
            "grid_column": null,
            "grid_gap": null,
            "grid_row": null,
            "grid_template_areas": null,
            "grid_template_columns": null,
            "grid_template_rows": null,
            "height": null,
            "justify_content": null,
            "justify_items": null,
            "left": null,
            "margin": null,
            "max_height": null,
            "max_width": null,
            "min_height": null,
            "min_width": null,
            "object_fit": null,
            "object_position": null,
            "order": null,
            "overflow": null,
            "overflow_x": null,
            "overflow_y": null,
            "padding": null,
            "right": null,
            "top": null,
            "visibility": null,
            "width": null
          }
        },
        "21742f6a89db4152b0fa7f4d7f3c6361": {
          "model_module": "@jupyter-widgets/controls",
          "model_name": "DescriptionStyleModel",
          "model_module_version": "1.5.0",
          "state": {
            "_model_module": "@jupyter-widgets/controls",
            "_model_module_version": "1.5.0",
            "_model_name": "DescriptionStyleModel",
            "_view_count": null,
            "_view_module": "@jupyter-widgets/base",
            "_view_module_version": "1.2.0",
            "_view_name": "StyleView",
            "description_width": ""
          }
        }
      }
    }
  },
  "cells": [
    {
      "cell_type": "markdown",
      "source": [
        "###Download Dataset"
      ],
      "metadata": {
        "id": "jaQDmfmAcC5O"
      }
    },
    {
      "cell_type": "code",
      "source": [
        "!gdown --id '1vrCZjUO0Ht4cl4HtjtcKwjO0GN04MFYm&confirm=t'"
      ],
      "metadata": {
        "colab": {
          "base_uri": "https://localhost:8080/"
        },
        "id": "H-8wtNQtVwCX",
        "outputId": "2e784d23-7764-4b72-f172-82efc972e074"
      },
      "execution_count": null,
      "outputs": [
        {
          "output_type": "stream",
          "name": "stdout",
          "text": [
            "/usr/local/lib/python3.9/dist-packages/gdown/cli.py:121: FutureWarning: Option `--id` was deprecated in version 4.3.1 and will be removed in 5.0. You don't need to pass it anymore to use a file ID.\n",
            "  warnings.warn(\n",
            "Downloading...\n",
            "From: https://drive.google.com/uc?id=1vrCZjUO0Ht4cl4HtjtcKwjO0GN04MFYm&confirm=t\n",
            "To: /content/courses.xlsx\n",
            "100% 15.4k/15.4k [00:00<00:00, 15.9MB/s]\n"
          ]
        }
      ]
    },
    {
      "cell_type": "markdown",
      "source": [
        "###Install Libraries"
      ],
      "metadata": {
        "id": "HuCM4URXSsj3"
      }
    },
    {
      "cell_type": "code",
      "execution_count": null,
      "metadata": {
        "id": "JnpYbWJtP0FT",
        "colab": {
          "base_uri": "https://localhost:8080/"
        },
        "outputId": "b2db029d-90ae-497d-e753-4dbba8bbb526"
      },
      "outputs": [
        {
          "output_type": "stream",
          "name": "stdout",
          "text": [
            "\u001b[2K     \u001b[90m━━━━━━━━━━━━━━━━━━━━━━━━━━━━━━━━━━━━━━━━\u001b[0m \u001b[32m6.7/6.7 MB\u001b[0m \u001b[31m12.0 MB/s\u001b[0m eta \u001b[36m0:00:00\u001b[0m\n",
            "\u001b[2K     \u001b[90m━━━━━━━━━━━━━━━━━━━━━━━━━━━━━━━━━━━━━━━━\u001b[0m \u001b[32m7.6/7.6 MB\u001b[0m \u001b[31m16.4 MB/s\u001b[0m eta \u001b[36m0:00:00\u001b[0m\n",
            "\u001b[2K     \u001b[90m━━━━━━━━━━━━━━━━━━━━━━━━━━━━━━━━━━━━━━━\u001b[0m \u001b[32m199.2/199.2 KB\u001b[0m \u001b[31m7.5 MB/s\u001b[0m eta \u001b[36m0:00:00\u001b[0m\n",
            "\u001b[?25h"
          ]
        }
      ],
      "source": [
        "!pip -q install transformers"
      ]
    },
    {
      "cell_type": "markdown",
      "source": [
        "##Import Libraries"
      ],
      "metadata": {
        "id": "05E4vRjKS1A0"
      }
    },
    {
      "cell_type": "code",
      "source": [
        "import pandas as pd\n",
        "import pickle\n",
        "from transformers import AutoTokenizer, AutoModel\n",
        "import torch\n",
        "import torch.nn.functional as F\n",
        "from sklearn.neighbors import NearestNeighbors"
      ],
      "metadata": {
        "id": "2g0aYC2zP7Q5"
      },
      "execution_count": null,
      "outputs": []
    },
    {
      "cell_type": "markdown",
      "source": [
        "#Load Dataset & Make Some EDA"
      ],
      "metadata": {
        "id": "5SYmEGnkebqk"
      }
    },
    {
      "cell_type": "code",
      "source": [
        "df = pd.read_excel('/content/courses.xlsx')\n",
        "df.head()"
      ],
      "metadata": {
        "colab": {
          "base_uri": "https://localhost:8080/"
        },
        "id": "WYBKD62EaVEN",
        "outputId": "68396fca-f10b-4a47-cf07-c538bb7e3826"
      },
      "execution_count": null,
      "outputs": [
        {
          "output_type": "execute_result",
          "data": {
            "text/plain": [
              "                                              Title   \\\n",
              "0             معسكر طويق وعلي بابا للحوسبة السحابية    \n",
              "1  معسكر تطوير تطبيقات الجوال والويب باستخدام Flu...   \n",
              "2                    معسكر Backend باستخدام لغة JAVA   \n",
              "3  معسكر تطوير تطبيقات الهواتف الذكية باستخدام لغ...   \n",
              "4                 معسكر تصميم تجربة وواجهات المستخدم   \n",
              "\n",
              "                                                Disc  \n",
              "0  يقام المعسكر: حضوريًا\\nوصف المعسكر:  \\nيوفّر ا...  \n",
              "1  يقام المعسكر: حضوريًا \\nوصف المعسكر:  \\nمعسكر ...  \n",
              "2  يقام المعسكر: حضوريًا \\nوصف المعسكر:  \\nيمكنك ...  \n",
              "3  يقام المعسكر: حضوريًا \\nوصف المعسكر:  \\nمعسكر ...  \n",
              "4  يقام المعسكر: حضوريًا \\nوصف المعسكر:  \\nيستهدف...  "
            ],
            "text/html": [
              "\n",
              "  <div id=\"df-b103e740-d6fe-4030-97ce-b648e09dcf83\">\n",
              "    <div class=\"colab-df-container\">\n",
              "      <div>\n",
              "<style scoped>\n",
              "    .dataframe tbody tr th:only-of-type {\n",
              "        vertical-align: middle;\n",
              "    }\n",
              "\n",
              "    .dataframe tbody tr th {\n",
              "        vertical-align: top;\n",
              "    }\n",
              "\n",
              "    .dataframe thead th {\n",
              "        text-align: right;\n",
              "    }\n",
              "</style>\n",
              "<table border=\"1\" class=\"dataframe\">\n",
              "  <thead>\n",
              "    <tr style=\"text-align: right;\">\n",
              "      <th></th>\n",
              "      <th>Title</th>\n",
              "      <th>Disc</th>\n",
              "    </tr>\n",
              "  </thead>\n",
              "  <tbody>\n",
              "    <tr>\n",
              "      <th>0</th>\n",
              "      <td>معسكر طويق وعلي بابا للحوسبة السحابية</td>\n",
              "      <td>يقام المعسكر: حضوريًا\\nوصف المعسكر:  \\nيوفّر ا...</td>\n",
              "    </tr>\n",
              "    <tr>\n",
              "      <th>1</th>\n",
              "      <td>معسكر تطوير تطبيقات الجوال والويب باستخدام Flu...</td>\n",
              "      <td>يقام المعسكر: حضوريًا \\nوصف المعسكر:  \\nمعسكر ...</td>\n",
              "    </tr>\n",
              "    <tr>\n",
              "      <th>2</th>\n",
              "      <td>معسكر Backend باستخدام لغة JAVA</td>\n",
              "      <td>يقام المعسكر: حضوريًا \\nوصف المعسكر:  \\nيمكنك ...</td>\n",
              "    </tr>\n",
              "    <tr>\n",
              "      <th>3</th>\n",
              "      <td>معسكر تطوير تطبيقات الهواتف الذكية باستخدام لغ...</td>\n",
              "      <td>يقام المعسكر: حضوريًا \\nوصف المعسكر:  \\nمعسكر ...</td>\n",
              "    </tr>\n",
              "    <tr>\n",
              "      <th>4</th>\n",
              "      <td>معسكر تصميم تجربة وواجهات المستخدم</td>\n",
              "      <td>يقام المعسكر: حضوريًا \\nوصف المعسكر:  \\nيستهدف...</td>\n",
              "    </tr>\n",
              "  </tbody>\n",
              "</table>\n",
              "</div>\n",
              "      <button class=\"colab-df-convert\" onclick=\"convertToInteractive('df-b103e740-d6fe-4030-97ce-b648e09dcf83')\"\n",
              "              title=\"Convert this dataframe to an interactive table.\"\n",
              "              style=\"display:none;\">\n",
              "        \n",
              "  <svg xmlns=\"http://www.w3.org/2000/svg\" height=\"24px\"viewBox=\"0 0 24 24\"\n",
              "       width=\"24px\">\n",
              "    <path d=\"M0 0h24v24H0V0z\" fill=\"none\"/>\n",
              "    <path d=\"M18.56 5.44l.94 2.06.94-2.06 2.06-.94-2.06-.94-.94-2.06-.94 2.06-2.06.94zm-11 1L8.5 8.5l.94-2.06 2.06-.94-2.06-.94L8.5 2.5l-.94 2.06-2.06.94zm10 10l.94 2.06.94-2.06 2.06-.94-2.06-.94-.94-2.06-.94 2.06-2.06.94z\"/><path d=\"M17.41 7.96l-1.37-1.37c-.4-.4-.92-.59-1.43-.59-.52 0-1.04.2-1.43.59L10.3 9.45l-7.72 7.72c-.78.78-.78 2.05 0 2.83L4 21.41c.39.39.9.59 1.41.59.51 0 1.02-.2 1.41-.59l7.78-7.78 2.81-2.81c.8-.78.8-2.07 0-2.86zM5.41 20L4 18.59l7.72-7.72 1.47 1.35L5.41 20z\"/>\n",
              "  </svg>\n",
              "      </button>\n",
              "      \n",
              "  <style>\n",
              "    .colab-df-container {\n",
              "      display:flex;\n",
              "      flex-wrap:wrap;\n",
              "      gap: 12px;\n",
              "    }\n",
              "\n",
              "    .colab-df-convert {\n",
              "      background-color: #E8F0FE;\n",
              "      border: none;\n",
              "      border-radius: 50%;\n",
              "      cursor: pointer;\n",
              "      display: none;\n",
              "      fill: #1967D2;\n",
              "      height: 32px;\n",
              "      padding: 0 0 0 0;\n",
              "      width: 32px;\n",
              "    }\n",
              "\n",
              "    .colab-df-convert:hover {\n",
              "      background-color: #E2EBFA;\n",
              "      box-shadow: 0px 1px 2px rgba(60, 64, 67, 0.3), 0px 1px 3px 1px rgba(60, 64, 67, 0.15);\n",
              "      fill: #174EA6;\n",
              "    }\n",
              "\n",
              "    [theme=dark] .colab-df-convert {\n",
              "      background-color: #3B4455;\n",
              "      fill: #D2E3FC;\n",
              "    }\n",
              "\n",
              "    [theme=dark] .colab-df-convert:hover {\n",
              "      background-color: #434B5C;\n",
              "      box-shadow: 0px 1px 3px 1px rgba(0, 0, 0, 0.15);\n",
              "      filter: drop-shadow(0px 1px 2px rgba(0, 0, 0, 0.3));\n",
              "      fill: #FFFFFF;\n",
              "    }\n",
              "  </style>\n",
              "\n",
              "      <script>\n",
              "        const buttonEl =\n",
              "          document.querySelector('#df-b103e740-d6fe-4030-97ce-b648e09dcf83 button.colab-df-convert');\n",
              "        buttonEl.style.display =\n",
              "          google.colab.kernel.accessAllowed ? 'block' : 'none';\n",
              "\n",
              "        async function convertToInteractive(key) {\n",
              "          const element = document.querySelector('#df-b103e740-d6fe-4030-97ce-b648e09dcf83');\n",
              "          const dataTable =\n",
              "            await google.colab.kernel.invokeFunction('convertToInteractive',\n",
              "                                                     [key], {});\n",
              "          if (!dataTable) return;\n",
              "\n",
              "          const docLinkHtml = 'Like what you see? Visit the ' +\n",
              "            '<a target=\"_blank\" href=https://colab.research.google.com/notebooks/data_table.ipynb>data table notebook</a>'\n",
              "            + ' to learn more about interactive tables.';\n",
              "          element.innerHTML = '';\n",
              "          dataTable['output_type'] = 'display_data';\n",
              "          await google.colab.output.renderOutput(dataTable, element);\n",
              "          const docLink = document.createElement('div');\n",
              "          docLink.innerHTML = docLinkHtml;\n",
              "          element.appendChild(docLink);\n",
              "        }\n",
              "      </script>\n",
              "    </div>\n",
              "  </div>\n",
              "  "
            ]
          },
          "metadata": {},
          "execution_count": 4
        }
      ]
    },
    {
      "cell_type": "code",
      "source": [
        "df = df.dropna()\n",
        "df.head()\n",
        "# df.isnull()"
      ],
      "metadata": {
        "colab": {
          "base_uri": "https://localhost:8080/"
        },
        "id": "vakCCji1d9dQ",
        "outputId": "e7f84fdb-9f7a-4a6b-803c-7a44e4486919"
      },
      "execution_count": null,
      "outputs": [
        {
          "output_type": "execute_result",
          "data": {
            "text/plain": [
              "                                              Title   \\\n",
              "0             معسكر طويق وعلي بابا للحوسبة السحابية    \n",
              "1  معسكر تطوير تطبيقات الجوال والويب باستخدام Flu...   \n",
              "2                    معسكر Backend باستخدام لغة JAVA   \n",
              "3  معسكر تطوير تطبيقات الهواتف الذكية باستخدام لغ...   \n",
              "4                 معسكر تصميم تجربة وواجهات المستخدم   \n",
              "\n",
              "                                                Disc  \n",
              "0  يقام المعسكر: حضوريًا\\nوصف المعسكر:  \\nيوفّر ا...  \n",
              "1  يقام المعسكر: حضوريًا \\nوصف المعسكر:  \\nمعسكر ...  \n",
              "2  يقام المعسكر: حضوريًا \\nوصف المعسكر:  \\nيمكنك ...  \n",
              "3  يقام المعسكر: حضوريًا \\nوصف المعسكر:  \\nمعسكر ...  \n",
              "4  يقام المعسكر: حضوريًا \\nوصف المعسكر:  \\nيستهدف...  "
            ],
            "text/html": [
              "\n",
              "  <div id=\"df-6e4bd5d5-f36e-442d-ad25-376ed7508129\">\n",
              "    <div class=\"colab-df-container\">\n",
              "      <div>\n",
              "<style scoped>\n",
              "    .dataframe tbody tr th:only-of-type {\n",
              "        vertical-align: middle;\n",
              "    }\n",
              "\n",
              "    .dataframe tbody tr th {\n",
              "        vertical-align: top;\n",
              "    }\n",
              "\n",
              "    .dataframe thead th {\n",
              "        text-align: right;\n",
              "    }\n",
              "</style>\n",
              "<table border=\"1\" class=\"dataframe\">\n",
              "  <thead>\n",
              "    <tr style=\"text-align: right;\">\n",
              "      <th></th>\n",
              "      <th>Title</th>\n",
              "      <th>Disc</th>\n",
              "    </tr>\n",
              "  </thead>\n",
              "  <tbody>\n",
              "    <tr>\n",
              "      <th>0</th>\n",
              "      <td>معسكر طويق وعلي بابا للحوسبة السحابية</td>\n",
              "      <td>يقام المعسكر: حضوريًا\\nوصف المعسكر:  \\nيوفّر ا...</td>\n",
              "    </tr>\n",
              "    <tr>\n",
              "      <th>1</th>\n",
              "      <td>معسكر تطوير تطبيقات الجوال والويب باستخدام Flu...</td>\n",
              "      <td>يقام المعسكر: حضوريًا \\nوصف المعسكر:  \\nمعسكر ...</td>\n",
              "    </tr>\n",
              "    <tr>\n",
              "      <th>2</th>\n",
              "      <td>معسكر Backend باستخدام لغة JAVA</td>\n",
              "      <td>يقام المعسكر: حضوريًا \\nوصف المعسكر:  \\nيمكنك ...</td>\n",
              "    </tr>\n",
              "    <tr>\n",
              "      <th>3</th>\n",
              "      <td>معسكر تطوير تطبيقات الهواتف الذكية باستخدام لغ...</td>\n",
              "      <td>يقام المعسكر: حضوريًا \\nوصف المعسكر:  \\nمعسكر ...</td>\n",
              "    </tr>\n",
              "    <tr>\n",
              "      <th>4</th>\n",
              "      <td>معسكر تصميم تجربة وواجهات المستخدم</td>\n",
              "      <td>يقام المعسكر: حضوريًا \\nوصف المعسكر:  \\nيستهدف...</td>\n",
              "    </tr>\n",
              "  </tbody>\n",
              "</table>\n",
              "</div>\n",
              "      <button class=\"colab-df-convert\" onclick=\"convertToInteractive('df-6e4bd5d5-f36e-442d-ad25-376ed7508129')\"\n",
              "              title=\"Convert this dataframe to an interactive table.\"\n",
              "              style=\"display:none;\">\n",
              "        \n",
              "  <svg xmlns=\"http://www.w3.org/2000/svg\" height=\"24px\"viewBox=\"0 0 24 24\"\n",
              "       width=\"24px\">\n",
              "    <path d=\"M0 0h24v24H0V0z\" fill=\"none\"/>\n",
              "    <path d=\"M18.56 5.44l.94 2.06.94-2.06 2.06-.94-2.06-.94-.94-2.06-.94 2.06-2.06.94zm-11 1L8.5 8.5l.94-2.06 2.06-.94-2.06-.94L8.5 2.5l-.94 2.06-2.06.94zm10 10l.94 2.06.94-2.06 2.06-.94-2.06-.94-.94-2.06-.94 2.06-2.06.94z\"/><path d=\"M17.41 7.96l-1.37-1.37c-.4-.4-.92-.59-1.43-.59-.52 0-1.04.2-1.43.59L10.3 9.45l-7.72 7.72c-.78.78-.78 2.05 0 2.83L4 21.41c.39.39.9.59 1.41.59.51 0 1.02-.2 1.41-.59l7.78-7.78 2.81-2.81c.8-.78.8-2.07 0-2.86zM5.41 20L4 18.59l7.72-7.72 1.47 1.35L5.41 20z\"/>\n",
              "  </svg>\n",
              "      </button>\n",
              "      \n",
              "  <style>\n",
              "    .colab-df-container {\n",
              "      display:flex;\n",
              "      flex-wrap:wrap;\n",
              "      gap: 12px;\n",
              "    }\n",
              "\n",
              "    .colab-df-convert {\n",
              "      background-color: #E8F0FE;\n",
              "      border: none;\n",
              "      border-radius: 50%;\n",
              "      cursor: pointer;\n",
              "      display: none;\n",
              "      fill: #1967D2;\n",
              "      height: 32px;\n",
              "      padding: 0 0 0 0;\n",
              "      width: 32px;\n",
              "    }\n",
              "\n",
              "    .colab-df-convert:hover {\n",
              "      background-color: #E2EBFA;\n",
              "      box-shadow: 0px 1px 2px rgba(60, 64, 67, 0.3), 0px 1px 3px 1px rgba(60, 64, 67, 0.15);\n",
              "      fill: #174EA6;\n",
              "    }\n",
              "\n",
              "    [theme=dark] .colab-df-convert {\n",
              "      background-color: #3B4455;\n",
              "      fill: #D2E3FC;\n",
              "    }\n",
              "\n",
              "    [theme=dark] .colab-df-convert:hover {\n",
              "      background-color: #434B5C;\n",
              "      box-shadow: 0px 1px 3px 1px rgba(0, 0, 0, 0.15);\n",
              "      filter: drop-shadow(0px 1px 2px rgba(0, 0, 0, 0.3));\n",
              "      fill: #FFFFFF;\n",
              "    }\n",
              "  </style>\n",
              "\n",
              "      <script>\n",
              "        const buttonEl =\n",
              "          document.querySelector('#df-6e4bd5d5-f36e-442d-ad25-376ed7508129 button.colab-df-convert');\n",
              "        buttonEl.style.display =\n",
              "          google.colab.kernel.accessAllowed ? 'block' : 'none';\n",
              "\n",
              "        async function convertToInteractive(key) {\n",
              "          const element = document.querySelector('#df-6e4bd5d5-f36e-442d-ad25-376ed7508129');\n",
              "          const dataTable =\n",
              "            await google.colab.kernel.invokeFunction('convertToInteractive',\n",
              "                                                     [key], {});\n",
              "          if (!dataTable) return;\n",
              "\n",
              "          const docLinkHtml = 'Like what you see? Visit the ' +\n",
              "            '<a target=\"_blank\" href=https://colab.research.google.com/notebooks/data_table.ipynb>data table notebook</a>'\n",
              "            + ' to learn more about interactive tables.';\n",
              "          element.innerHTML = '';\n",
              "          dataTable['output_type'] = 'display_data';\n",
              "          await google.colab.output.renderOutput(dataTable, element);\n",
              "          const docLink = document.createElement('div');\n",
              "          docLink.innerHTML = docLinkHtml;\n",
              "          element.appendChild(docLink);\n",
              "        }\n",
              "      </script>\n",
              "    </div>\n",
              "  </div>\n",
              "  "
            ]
          },
          "metadata": {},
          "execution_count": 5
        }
      ]
    },
    {
      "cell_type": "code",
      "source": [
        "df.columns"
      ],
      "metadata": {
        "colab": {
          "base_uri": "https://localhost:8080/"
        },
        "id": "kXWxQ5i56_zj",
        "outputId": "adb11e7f-60f7-44fb-eb39-cc84c4296465"
      },
      "execution_count": null,
      "outputs": [
        {
          "output_type": "execute_result",
          "data": {
            "text/plain": [
              "Index(['Title ', 'Disc'], dtype='object')"
            ]
          },
          "metadata": {},
          "execution_count": 6
        }
      ]
    },
    {
      "cell_type": "code",
      "source": [
        "all_desc=df['Disc'].values.tolist()\n",
        "all_title=df['Title '].values.tolist()"
      ],
      "metadata": {
        "id": "t22gbNYYZ-Un"
      },
      "execution_count": null,
      "outputs": []
    },
    {
      "cell_type": "markdown",
      "source": [
        "#GPT look"
      ],
      "metadata": {
        "id": "nBuxeH7iLjCg"
      }
    },
    {
      "cell_type": "code",
      "source": [
        "import requests\n",
        "import json\n",
        "\n",
        "url = \"https://experimental.willow.vectara.io/v1/chat/completions\"\n",
        "\n",
        "def gpt_look(tit, sen):\n",
        "    msg = f'\"Title: {tit}\": \\n  Context: {sen}.'\n",
        "    payload = json.dumps({\n",
        "      \"model\": \"gpt-3.5-turbo-0301\",\n",
        "      \"messages\": [{\"role\": \"system\", \"content\": \"أنت مساعد مفيد.\"},\n",
        "                   {\"role\": \"user\",\"content\": msg},\n",
        "                   {\"role\": \"assistant\",\"content\": ' استخرج المعلومات المفيدة من النص المرفق باكبر قدر ممكن من الصراحة ,اجعل اجابتك مختصرة لأقصي حد ممكن, أضف عنوان فريد للنص'},\n",
        "                   {\"role\": \"assistant\",\"content\": 'اختصر النص الناتج' }]\n",
        "    })\n",
        "    headers = {\n",
        "      'Content-Type': 'application/json',\n",
        "      'customer-id': '348719068',\n",
        "      'x-api-key': \n",
        "    }\n",
        "\n",
        "    response = requests.request(\"POST\", url, headers=headers, data=payload)\n",
        "\n",
        "    resp_text = response.text\n",
        "    dict_ =json.loads(resp_text)\n",
        "    try:\n",
        "       ans = dict_[\"choices\"][0][\"message\"][\"content\"]\n",
        "    except:\n",
        "       return None\n",
        "    return ans "
      ],
      "metadata": {
        "id": "pcOEK2W2LquA"
      },
      "execution_count": null,
      "outputs": []
    },
    {
      "cell_type": "code",
      "source": [
        "import requests\n",
        "import json\n",
        "\n",
        "url = \"https://experimental.willow.vectara.io/v1/chat/completions\"\n",
        "\n",
        "def gpt_look(tit, sen):\n",
        "    msg = f'\"Title: {tit}\": \\n  Context: {sen}.'\n",
        "    payload = json.dumps({\n",
        "      \"model\": \"gpt-3.5-turbo-0301\",\n",
        "      \"messages\": [{\"role\": \"system\", \"content\": \"أنت مساعد مفيد.\"},\n",
        "                   {\"role\": \"user\",\"content\": msg},\n",
        "                   {\"role\": \"assistant\",\"content\": ' استخرج مقطتفات تشير للنص المرفق'},]\n",
        "    })\n",
        "    headers = {\n",
        "      'Content-Type': 'application/json',\n",
        "      'customer-id': '348719068',\n",
        "      'x-api-key': \n",
        "    }\n",
        "\n",
        "    response = requests.request(\"POST\", url, headers=headers, data=payload)\n",
        "\n",
        "    resp_text = response.text\n",
        "    dict_ =json.loads(resp_text)\n",
        "    try:\n",
        "       ans = dict_[\"choices\"][0][\"message\"][\"content\"]\n",
        "    except:\n",
        "       return None\n",
        "    return ans "
      ],
      "metadata": {
        "id": "r42W9WguniE5"
      },
      "execution_count": null,
      "outputs": []
    },
    {
      "cell_type": "code",
      "source": [
        "import requests\n",
        "import json\n",
        "\n",
        "url = \"https://experimental.willow.vectara.io/v1/chat/completions\"\n",
        "\n",
        "def gpt_look2(msg):\n",
        "    payload = json.dumps({\n",
        "      \"model\": \"gpt-3.5-turbo-0301\",\n",
        "      \"messages\": [{\"role\": \"system\", \"content\": \"أنت مساعد مفيد.\"},\n",
        "                   {\"role\": \"user\",\"content\": '\\n'.join(msg)},\n",
        "                   {\"role\": \"assistant\",\"content\": ' استخرج المعلومات المفيدة من النص المرفق باكبر قدر ممكن من الصراحة ,اجعل اجابتك مختصرة لأقصي حد ممكن, أضف عنوان فريد للنص'},\n",
        "                   {\"role\": \"assistant\",\"content\": 'اختصر النص الناتج' }]\n",
        "    })\n",
        "    headers = {\n",
        "      'Content-Type': 'application/json',\n",
        "      'customer-id': '348719068',\n",
        "      'x-api-key': \n",
        "    }\n",
        "\n",
        "    response = requests.request(\"POST\", url, headers=headers, data=payload)\n",
        "\n",
        "    resp_text = response.text\n",
        "    dict_ =json.loads(resp_text)\n",
        "    try:\n",
        "       ans = dict_[\"choices\"][0][\"message\"][\"content\"]\n",
        "    except:\n",
        "       return None\n",
        "    return ans "
      ],
      "metadata": {
        "id": "o-_KQI_IXBZm"
      },
      "execution_count": null,
      "outputs": []
    },
    {
      "cell_type": "code",
      "source": [
        "gpt_short = list(map(lambda idx:gpt_look(all_title[idx], all_desc[idx]), range(len(all_desc[:3])))) "
      ],
      "metadata": {
        "id": "i7FMlkKPMJ3v"
      },
      "execution_count": null,
      "outputs": []
    },
    {
      "cell_type": "code",
      "source": [
        "gpt_short "
      ],
      "metadata": {
        "colab": {
          "base_uri": "https://localhost:8080/"
        },
        "id": "SDmBaPDun0xT",
        "outputId": "83fc7a23-75b5-4b5d-9ef4-504a17342ed9"
      },
      "execution_count": null,
      "outputs": [
        {
          "output_type": "execute_result",
          "data": {
            "text/plain": [
              "['- عنوان النص: معسكر طويق وعلي بابا للحوسبة السحابية.\\n- يقام المعسكر حضوريًا ولمدة شهرين من 15 يناير إلى 9 مارس.\\n- يهدف المعسكر إلى تدريب المشاركين على المهارات التقنية المهمة للاستفادة من خدمات الحوسبة السحابية.\\n- المتطلبات للمشاركة هي الجنسية السعودية وحصول المتقدم على درجة بكالوريوس في إحدى التخصصات التقنية وإجادة اللغة الإنجليزية.\\n- بعد إتمام المعسكر، ستحصل على شهادة معتمدة من أكاديمية طويق، بالإضافة إلى التأهيل لشهادة ACA Cloud Computing Certification.',\n",
              " '- المعسكر هو معسكر تدريبي مكثف لتطوير تطبيقات الجوال والويب باستخدام إطار عمل Flutter، والذي يعتبر الإطار الأحدث والأسهل لبناء تطبيقات تعمل على عدة أنظمة.\\n- ستتعلم في هذا المعسكر على كيفية بناء واجهات التطبيق والتنقل بينها، بالإضافة إلى كيفية التعامل مع البيانات وحفظها.\\n- يهدف المعسكر إلى تطوير تطبيقات متقدمة تعمل على نظام iOS ونظام Android وربط التطبيقات مع قواعد بيانات داخلية أو سحابية.\\n- تتميز المعسكر باللغة العربية وإمكانية برمجة تطبيق يعمل على جميع المنصات.',\n",
              " '- المعسكر هو معسكر Backend باستخدام لغة JAVA.\\n- يبدأ المعسكر من 8 يناير الى 2 مارس لمدة 5 ساعات يوميًا خلال أيام الأسبوع.\\n- المعسكر حضوريًا في مقر أكاديمية طويق بمدينة الرياض.\\n- الهدف من المعسكر هو تطوير تطبيقات ويب متقدمة وربطها بقواعد البيانات والتعرف على Git وGitHub.\\n- المميزات تشمل شهادة إتمام ومشاريع عملية.']"
            ]
          },
          "metadata": {},
          "execution_count": 127
        }
      ]
    },
    {
      "cell_type": "code",
      "source": [
        "sd = []\n",
        "for i in range(0, len(gpt_short), 2):\n",
        "    s = gpt_short[i:i+2]  \n",
        "    sd.append(gpt_look2(s)) \n",
        "    print(i, i+2) "
      ],
      "metadata": {
        "id": "hTKD71loV43P"
      },
      "execution_count": null,
      "outputs": []
    },
    {
      "cell_type": "code",
      "source": [
        "gpt_short = sd"
      ],
      "metadata": {
        "id": "NZLsdwboXoCV"
      },
      "execution_count": null,
      "outputs": []
    },
    {
      "cell_type": "code",
      "source": [
        "# #Save \n",
        "with open('all_short_courses.pkl','wb') as f:\n",
        "       pickle.dump(gpt_short, f) \n",
        "\n",
        "\n",
        "#Load\n",
        "# with open('all_short_courses.pkl','rb') as f:\n",
        "#      gpt_short = pickle.load(f)"
      ],
      "metadata": {
        "id": "IniU5z2NSNvT"
      },
      "execution_count": null,
      "outputs": []
    },
    {
      "cell_type": "markdown",
      "source": [
        "#Using RoBerta+GPT"
      ],
      "metadata": {
        "id": "0SMi37LEnL_L"
      }
    },
    {
      "cell_type": "code",
      "source": [
        "#Mean Pooling - Take attention mask into account for correct averaging\n",
        "def mean_pooling(model_output, attention_mask):\n",
        "    token_embeddings = model_output[0] #First element of model_output contains all token embeddings\n",
        "    input_mask_expanded = attention_mask.unsqueeze(-1).expand(token_embeddings.size()).float()\n",
        "    return torch.sum(token_embeddings * input_mask_expanded, 1) / torch.clamp(input_mask_expanded.sum(1), min=1e-9)\n"
      ],
      "metadata": {
        "id": "OnsJQBsYnOli"
      },
      "execution_count": null,
      "outputs": []
    },
    {
      "cell_type": "code",
      "source": [
        "# Sentences we want sentence embeddings for\n",
        "sentences = all_desc\n",
        "\n",
        "# Load model from HuggingFace Hub\n",
        "tokenizer = AutoTokenizer.from_pretrained('sentence-transformers/all-roberta-large-v1')\n",
        "model = AutoModel.from_pretrained('sentence-transformers/all-roberta-large-v1')\n",
        "\n",
        "def emb_roberta(sentences):\n",
        "      # Tokenize sentences\n",
        "      encoded_input = tokenizer(sentences, padding=True, truncation=True, return_tensors='pt')\n",
        "\n",
        "      # Compute token embeddings\n",
        "      with torch.no_grad():\n",
        "          model_output = model(**encoded_input)\n",
        "\n",
        "      # Perform pooling\n",
        "      sentence_embeddings = mean_pooling(model_output, encoded_input['attention_mask'])\n",
        "\n",
        "      # Normalize embeddings\n",
        "      sentence_embeddings = F.normalize(sentence_embeddings, p=2, dim=1)\n",
        "      return sentence_embeddings.cpu().numpy()\n"
      ],
      "metadata": {
        "id": "YUZopoz7n-RY",
        "colab": {
          "base_uri": "https://localhost:8080/",
          "height": 241,
          "referenced_widgets": [
            "f2eb11aea51c495185d425d817b9db9e",
            "a515c79efbb947e6b6d3b6b5fcf3e89a",
            "0e7673cd03454bccbf9de1184414725c",
            "e395bcf7be5841c1bd143609b037fa56",
            "76f9d2da82884d6798624367682e24eb",
            "c3e4d07e0a554d04aa938f1909d24c52",
            "6d078721442b407b9f17e3cd152db1f0",
            "69a63a06e14749db88160dff1f43d657",
            "b05f2d4339ec45c991a35d13a4c788de",
            "8b42f204faca4727bfc3a27a6439401b",
            "0c3e73ac2d234501adc1302f3e12576a",
            "8a448cfffdab4ad6b86122f62a5bb6cb",
            "4ce04f52210f4a0e8d8ff9577e69fba6",
            "03d7f0045dd54f13944c9b8d2b446b40",
            "6523a3e446c34bfa8f7b2dbc171f733f",
            "b8590c2a0b4d4150bfe2973bc735f1bb",
            "63a8a3bc9fcf46d8825b57fbd5aa5499",
            "ce5c6b5ae5ea4b4ab5261e3258177107",
            "d81d1508652b4e3597e0d3663d8342d6",
            "d874d1bf86af4e9690104409f6cd14a3",
            "c8c39ecf0a704409a385eed33803c3fc",
            "86ff2d0968e540d2887efabc9414665b",
            "9de16e425a8f421f979d3847c8d3d162",
            "3aa7026e17fb43c38892cc68487b728c",
            "6ff36ddf12494314bdf8af7f54ca52dc",
            "8db717acf2a04a9c9bd03d5502ccf15d",
            "7149f0c3d5b04666b986b7ffc086c9e1",
            "fae3895ed19a4a0eaa3ab0e206f3a31a",
            "c0623cc56a3f4504b2557d718842edad",
            "454f21443b9c453cb5f0ea787f009afc",
            "6a912f0921004dcea6d16d411f4b908b",
            "792a03bf98b74d7b98dbab7361de5ada",
            "0c1ee9edde9a4e178d7b4cf951a53162",
            "2e4e9333f6c94903b1d630d4760f4e40",
            "fd7aa08e850a4357831c07932f521354",
            "f1e7e6ebb7e64de6b8cbfe5dfe3ce739",
            "cecb11c4d6064b9e953bd66b59ddea37",
            "853ca22a62af487a9bab208d5e70da93",
            "64677bc89fb44489af4e5f145cd080e9",
            "19729970f6c94164bf669c1ef2838204",
            "76232ae411774794b7f3224f7aaa4571",
            "da1fc2e1752b4ed1985fe492c967e071",
            "2311eed3f52a44bb80c5fecefec3d075",
            "218c0f43a6ff4b779d0028ecf0cd10b8",
            "95234a2e4ddc444fa1e27ee8df336ce8",
            "d7c95623274345b9ad1af9cfedebc5b9",
            "9016ceb7f74d49378a68ba93ac2a6171",
            "7e971af85ba24761b9711ee7c2804450",
            "95dc4b20e32f4a079f6b652dfcb94ed2",
            "d10acde0c26a4529a68a4940d6f7eaa3",
            "82b2fedfb5d74b9690abc984e2cba70c",
            "cbbbbe9eb05f49eca37b6b9629faed4e",
            "946eaba2ebfb4932b62e0387060039e9",
            "a2f1a35b72a64055bf19fab7c6566b89",
            "593e1df5779b4793bb0e1766e1272390",
            "ef70362eb7eb42578a7d6d5cd8e7e739",
            "18a8dcfe4db54205b59a38f81058c0c7",
            "468f436f2cde4ca282c13fb8947c556e",
            "6cd8c03711394e56bdf344c59e21004f",
            "478d6e5eea184bd6b44c09565b55c1f0",
            "cb9f4aa52de14d14bba35d43f884fc9e",
            "25fe3eba1ae0495b81be2ca60c537b3a",
            "6b1afa740c5c47a58c9bd812328c2d84",
            "4f226a37edb24496a759e628cde03a4e",
            "b2ffbb5cd90d4ce097b728943b505cfa",
            "bc862ecf2d1340b5919309f5f31c1559",
            "ddcb5d9d8e614fdbb40fedff9ae63e15",
            "b779a73f677e4d7484a1986f68d4fc7a",
            "946dcc9ecb974709815135a385f5bb3e",
            "8a2e11daea3642eab940f4e0ed804ff0",
            "ed5925190ec84aec9328a1ddc3a1ea16",
            "e3818c78a4594088805d36a8011c3c00",
            "d4121bf2bef8492798653cd012da52e2",
            "d1b3f8c29d3b41b6a11cf32b95a18676",
            "d429663b351a4061abf89302c96ca9f8",
            "ee4523d4cb1746dc9a6945bca938142d",
            "21742f6a89db4152b0fa7f4d7f3c6361"
          ]
        },
        "outputId": "d1c9c657-d96a-4459-dd2c-3769c9bee096"
      },
      "execution_count": null,
      "outputs": [
        {
          "output_type": "display_data",
          "data": {
            "text/plain": [
              "Downloading (…)okenizer_config.json:   0%|          | 0.00/328 [00:00<?, ?B/s]"
            ],
            "application/vnd.jupyter.widget-view+json": {
              "version_major": 2,
              "version_minor": 0,
              "model_id": "f2eb11aea51c495185d425d817b9db9e"
            }
          },
          "metadata": {}
        },
        {
          "output_type": "display_data",
          "data": {
            "text/plain": [
              "Downloading (…)olve/main/vocab.json:   0%|          | 0.00/798k [00:00<?, ?B/s]"
            ],
            "application/vnd.jupyter.widget-view+json": {
              "version_major": 2,
              "version_minor": 0,
              "model_id": "8a448cfffdab4ad6b86122f62a5bb6cb"
            }
          },
          "metadata": {}
        },
        {
          "output_type": "display_data",
          "data": {
            "text/plain": [
              "Downloading (…)olve/main/merges.txt:   0%|          | 0.00/456k [00:00<?, ?B/s]"
            ],
            "application/vnd.jupyter.widget-view+json": {
              "version_major": 2,
              "version_minor": 0,
              "model_id": "9de16e425a8f421f979d3847c8d3d162"
            }
          },
          "metadata": {}
        },
        {
          "output_type": "display_data",
          "data": {
            "text/plain": [
              "Downloading (…)/main/tokenizer.json:   0%|          | 0.00/1.36M [00:00<?, ?B/s]"
            ],
            "application/vnd.jupyter.widget-view+json": {
              "version_major": 2,
              "version_minor": 0,
              "model_id": "2e4e9333f6c94903b1d630d4760f4e40"
            }
          },
          "metadata": {}
        },
        {
          "output_type": "display_data",
          "data": {
            "text/plain": [
              "Downloading (…)cial_tokens_map.json:   0%|          | 0.00/239 [00:00<?, ?B/s]"
            ],
            "application/vnd.jupyter.widget-view+json": {
              "version_major": 2,
              "version_minor": 0,
              "model_id": "95234a2e4ddc444fa1e27ee8df336ce8"
            }
          },
          "metadata": {}
        },
        {
          "output_type": "display_data",
          "data": {
            "text/plain": [
              "Downloading (…)lve/main/config.json:   0%|          | 0.00/650 [00:00<?, ?B/s]"
            ],
            "application/vnd.jupyter.widget-view+json": {
              "version_major": 2,
              "version_minor": 0,
              "model_id": "ef70362eb7eb42578a7d6d5cd8e7e739"
            }
          },
          "metadata": {}
        },
        {
          "output_type": "display_data",
          "data": {
            "text/plain": [
              "Downloading pytorch_model.bin:   0%|          | 0.00/1.42G [00:00<?, ?B/s]"
            ],
            "application/vnd.jupyter.widget-view+json": {
              "version_major": 2,
              "version_minor": 0,
              "model_id": "ddcb5d9d8e614fdbb40fedff9ae63e15"
            }
          },
          "metadata": {}
        }
      ]
    },
    {
      "cell_type": "code",
      "source": [
        "embeddings = emb_roberta(all_desc) #we can run as GPU\n",
        "neigh = NearestNeighbors(n_neighbors=3)\n",
        "neigh.fit(embeddings) "
      ],
      "metadata": {
        "colab": {
          "base_uri": "https://localhost:8080/",
          "height": 75
        },
        "id": "kwE2O3uBobcy",
        "outputId": "464b1d8a-37bb-4272-ea73-ae7c0d48e9d0"
      },
      "execution_count": null,
      "outputs": [
        {
          "output_type": "execute_result",
          "data": {
            "text/plain": [
              "NearestNeighbors(n_neighbors=3)"
            ],
            "text/html": [
              "<style>#sk-container-id-1 {color: black;background-color: white;}#sk-container-id-1 pre{padding: 0;}#sk-container-id-1 div.sk-toggleable {background-color: white;}#sk-container-id-1 label.sk-toggleable__label {cursor: pointer;display: block;width: 100%;margin-bottom: 0;padding: 0.3em;box-sizing: border-box;text-align: center;}#sk-container-id-1 label.sk-toggleable__label-arrow:before {content: \"▸\";float: left;margin-right: 0.25em;color: #696969;}#sk-container-id-1 label.sk-toggleable__label-arrow:hover:before {color: black;}#sk-container-id-1 div.sk-estimator:hover label.sk-toggleable__label-arrow:before {color: black;}#sk-container-id-1 div.sk-toggleable__content {max-height: 0;max-width: 0;overflow: hidden;text-align: left;background-color: #f0f8ff;}#sk-container-id-1 div.sk-toggleable__content pre {margin: 0.2em;color: black;border-radius: 0.25em;background-color: #f0f8ff;}#sk-container-id-1 input.sk-toggleable__control:checked~div.sk-toggleable__content {max-height: 200px;max-width: 100%;overflow: auto;}#sk-container-id-1 input.sk-toggleable__control:checked~label.sk-toggleable__label-arrow:before {content: \"▾\";}#sk-container-id-1 div.sk-estimator input.sk-toggleable__control:checked~label.sk-toggleable__label {background-color: #d4ebff;}#sk-container-id-1 div.sk-label input.sk-toggleable__control:checked~label.sk-toggleable__label {background-color: #d4ebff;}#sk-container-id-1 input.sk-hidden--visually {border: 0;clip: rect(1px 1px 1px 1px);clip: rect(1px, 1px, 1px, 1px);height: 1px;margin: -1px;overflow: hidden;padding: 0;position: absolute;width: 1px;}#sk-container-id-1 div.sk-estimator {font-family: monospace;background-color: #f0f8ff;border: 1px dotted black;border-radius: 0.25em;box-sizing: border-box;margin-bottom: 0.5em;}#sk-container-id-1 div.sk-estimator:hover {background-color: #d4ebff;}#sk-container-id-1 div.sk-parallel-item::after {content: \"\";width: 100%;border-bottom: 1px solid gray;flex-grow: 1;}#sk-container-id-1 div.sk-label:hover label.sk-toggleable__label {background-color: #d4ebff;}#sk-container-id-1 div.sk-serial::before {content: \"\";position: absolute;border-left: 1px solid gray;box-sizing: border-box;top: 0;bottom: 0;left: 50%;z-index: 0;}#sk-container-id-1 div.sk-serial {display: flex;flex-direction: column;align-items: center;background-color: white;padding-right: 0.2em;padding-left: 0.2em;position: relative;}#sk-container-id-1 div.sk-item {position: relative;z-index: 1;}#sk-container-id-1 div.sk-parallel {display: flex;align-items: stretch;justify-content: center;background-color: white;position: relative;}#sk-container-id-1 div.sk-item::before, #sk-container-id-1 div.sk-parallel-item::before {content: \"\";position: absolute;border-left: 1px solid gray;box-sizing: border-box;top: 0;bottom: 0;left: 50%;z-index: -1;}#sk-container-id-1 div.sk-parallel-item {display: flex;flex-direction: column;z-index: 1;position: relative;background-color: white;}#sk-container-id-1 div.sk-parallel-item:first-child::after {align-self: flex-end;width: 50%;}#sk-container-id-1 div.sk-parallel-item:last-child::after {align-self: flex-start;width: 50%;}#sk-container-id-1 div.sk-parallel-item:only-child::after {width: 0;}#sk-container-id-1 div.sk-dashed-wrapped {border: 1px dashed gray;margin: 0 0.4em 0.5em 0.4em;box-sizing: border-box;padding-bottom: 0.4em;background-color: white;}#sk-container-id-1 div.sk-label label {font-family: monospace;font-weight: bold;display: inline-block;line-height: 1.2em;}#sk-container-id-1 div.sk-label-container {text-align: center;}#sk-container-id-1 div.sk-container {/* jupyter's `normalize.less` sets `[hidden] { display: none; }` but bootstrap.min.css set `[hidden] { display: none !important; }` so we also need the `!important` here to be able to override the default hidden behavior on the sphinx rendered scikit-learn.org. See: https://github.com/scikit-learn/scikit-learn/issues/21755 */display: inline-block !important;position: relative;}#sk-container-id-1 div.sk-text-repr-fallback {display: none;}</style><div id=\"sk-container-id-1\" class=\"sk-top-container\"><div class=\"sk-text-repr-fallback\"><pre>NearestNeighbors(n_neighbors=3)</pre><b>In a Jupyter environment, please rerun this cell to show the HTML representation or trust the notebook. <br />On GitHub, the HTML representation is unable to render, please try loading this page with nbviewer.org.</b></div><div class=\"sk-container\" hidden><div class=\"sk-item\"><div class=\"sk-estimator sk-toggleable\"><input class=\"sk-toggleable__control sk-hidden--visually\" id=\"sk-estimator-id-1\" type=\"checkbox\" checked><label for=\"sk-estimator-id-1\" class=\"sk-toggleable__label sk-toggleable__label-arrow\">NearestNeighbors</label><div class=\"sk-toggleable__content\"><pre>NearestNeighbors(n_neighbors=3)</pre></div></div></div></div></div>"
            ]
          },
          "metadata": {},
          "execution_count": 13
        }
      ]
    },
    {
      "cell_type": "markdown",
      "source": [
        "**Save Embeddings on Drive**"
      ],
      "metadata": {
        "id": "aotludgDdeFF"
      }
    },
    {
      "cell_type": "code",
      "source": [
        "# #Save \n",
        "# with open('all_emb_courses.pkl','wb') as f:\n",
        "#        pickle.dump(Data_A, f) \n",
        "\n",
        "\n",
        "#Load\n",
        "# with open('all_emb_courses.pkl','rb') as f:\n",
        "#      Data_A = pickle.load(f)"
      ],
      "metadata": {
        "id": "1UgF9nSPuxQU"
      },
      "execution_count": null,
      "outputs": []
    },
    {
      "cell_type": "code",
      "source": [
        "import requests\n",
        "import json\n",
        "\n",
        "url = \"https://experimental.willow.vectara.io/v1/chat/completions\"\n",
        "\n",
        "def gpt3(msg, allsen):\n",
        "    payload = json.dumps({\n",
        "      \"model\": \"gpt-3.5-turbo-0301\",\n",
        "      \"messages\": [{\"role\": \"system\", \"content\": \"أنت مساعد مفيد.\"},\n",
        "                   {\"role\": \"user\",\"content\": msg},\n",
        "                   {\"role\": \"user\",\"content\": f'في حال لم تجد الإجابة في النص السابق, حاول البحث عنه في الفقرة التالية \\n {allsen}' },\n",
        "                   {\"role\": \"assistant\",\"content\": 'في حال لم تتمكن من الإجابة حاول مساعدة المستخدم في تحسين السؤال ليناسب النص المقدم'}]\n",
        "    })\n",
        "    headers = {\n",
        "      'Content-Type': 'application/json',\n",
        "      'customer-id': '348719068',\n",
        "      'x-api-key': ''\n",
        "    }\n",
        "\n",
        "    response = requests.request(\"POST\", url, headers=headers, data=payload)\n",
        "\n",
        "    resp_text = response.text\n",
        "    dict_ =json.loads(resp_text)\n",
        "    try:\n",
        "       ans = dict_[\"choices\"][0][\"message\"][\"content\"]\n",
        "    except:\n",
        "       return None\n",
        "       \n",
        "    return ans if ans.rfind('UNK') <0 else 'لا أعرف'"
      ],
      "metadata": {
        "id": "oFXVocjaSlFv"
      },
      "execution_count": null,
      "outputs": []
    },
    {
      "cell_type": "code",
      "source": [
        "import requests\n",
        "import json\n",
        "\n",
        "url = \"https://experimental.willow.vectara.io/v1/chat/completions\"\n",
        "\n",
        "def gpt5(msg):\n",
        "    payload = json.dumps({\n",
        "      \"model\": \"gpt-3.5-turbo-0301\",\n",
        "      \"messages\": [{\"role\": \"system\", \"content\": \"أنت مساعد مفيد.\"},\n",
        "                   {\"role\": \"user\",\"content\": msg},\n",
        "                   {\"role\": \"assistant\",\"content\": 'قم بمراعاة اختلاف اللغة وحاول ايجاد الإجابة'},]\n",
        "\n",
        "    })\n",
        "    headers = {\n",
        "      'Content-Type': 'application/json',\n",
        "      'customer-id': '348719068',\n",
        "      'x-api-key': \n",
        "    }\n",
        "\n",
        "    response = requests.request(\"POST\", url, headers=headers, data=payload)\n",
        "\n",
        "    resp_text = response.text\n",
        "    dict_ =json.loads(resp_text)\n",
        "    try:\n",
        "       ans = dict_[\"choices\"][0][\"message\"][\"content\"]\n",
        "    except:\n",
        "       return None\n",
        "       \n",
        "    return ans if ans.rfind('UNK') <0 else None"
      ],
      "metadata": {
        "id": "ZrtpZuN2ccOK"
      },
      "execution_count": null,
      "outputs": []
    },
    {
      "cell_type": "code",
      "source": [
        "import requests\n",
        "import json\n",
        "\n",
        "url = \"https://experimental.willow.vectara.io/v1/chat/completions\"\n",
        "\n",
        "def gpt_hep(msg, allsen):\n",
        "    payload = json.dumps({\n",
        "      \"model\": \"gpt-3.5-turbo-0301\",\n",
        "      \"messages\": [{\"role\": \"system\", \"content\": \"أنت مساعد مفيد.\"},\n",
        "                   {\"role\": \"user\",\"content\": msg},\n",
        "                   {\"role\": \"assistant\",\"content\": 'في حال لم تتمكن من الإجابة حاول مساعدة المستخدم في تحسين السؤال ليناسب النص المقدم'},\n",
        "                   {\"role\": \"assistant\",\"content\": 'قم بمراعاة اختلاف اللغة وحاول ايجاد الإجابة'}]\n",
        "\n",
        "    })\n",
        "    headers = {\n",
        "      'Content-Type': 'application/json',\n",
        "      'customer-id': '348719068',\n",
        "      'x-api-key': \n",
        "    }\n",
        "\n",
        "    return get_ans(requests.request(\"POST\", url, headers=headers, data=payload), allsen)\n",
        "\n",
        "def get_ans(response, allsen):\n",
        "    resp_text = response.text\n",
        "    dict_ =json.loads(resp_text)\n",
        "    try:\n",
        "       ans = dict_[\"choices\"][0][\"message\"][\"content\"]\n",
        "    except:\n",
        "       ans = gpt_hep(make_text(allsen))\n",
        "       return ans\n",
        "       \n",
        "    return ans if ans.rfind('UNK') <0 else gpt_hep(make_text(allsen))"
      ],
      "metadata": {
        "id": "c4swrJb-YKWA"
      },
      "execution_count": null,
      "outputs": []
    },
    {
      "cell_type": "code",
      "source": [
        "import requests\n",
        "import json\n",
        "\n",
        "url = \"https://experimental.willow.vectara.io/v1/chat/completions\"\n",
        "\n",
        "def gpt34(msg):\n",
        "    payload = json.dumps({\n",
        "      \"model\": \"gpt-3.5-turbo-0301\",\n",
        "      \"messages\": [{\"role\": \"system\", \"content\": \"أنت مساعد مفيد.\"},\n",
        "                   {\"role\": \"user\",\"content\": msg},\n",
        "                   {\"role\": \"assistant\",\"content\": 'في حال لم تتمكن من الإجابة حاول مساعدة المستخدم في تحسين السؤال ليناسب النص المقدم'}]\n",
        "    })\n",
        "    headers = {\n",
        "      'Content-Type': 'application/json',\n",
        "      'customer-id': '348719068',\n",
        "      'x-api-key': \n",
        "    }\n",
        "\n",
        "    response = requests.request(\"POST\", url, headers=headers, data=payload)\n",
        "\n",
        "    resp_text = response.text\n",
        "    dict_ =json.loads(resp_text)\n",
        "    try:\n",
        "       ans = dict_[\"choices\"][0][\"message\"][\"content\"]\n",
        "    except:\n",
        "       return None\n",
        "       \n",
        "    return ans if ans.rfind('UNK') <0 else 'لا أعرف'"
      ],
      "metadata": {
        "id": "rVN086lBsvzv"
      },
      "execution_count": null,
      "outputs": []
    },
    {
      "cell_type": "code",
      "source": [
        "import requests\n",
        "import json\n",
        "\n",
        "url = \"https://experimental.willow.vectara.io/v1/chat/completions\"\n",
        "\n",
        "def comp(tit, sen):\n",
        "    msg = f'\"Title: {tit}\": \\n  Context: {sen}.'\n",
        "    payload = json.dumps({\n",
        "      \"model\": \"gpt-3.5-turbo-0301\",\n",
        "      \"messages\": [{\"role\": \"system\", \"content\": \"أنت مساعد مفيد.\"},\n",
        "                   {\"role\": \"user\",\"content\": msg},]\n",
        "    })\n",
        "    headers = {\n",
        "      'Content-Type': 'application/json',\n",
        "      'customer-id': '348719068',\n",
        "      'x-api-key': \n",
        "    }\n",
        "\n",
        "    response = requests.request(\"POST\", url, headers=headers, data=payload)\n",
        "\n",
        "    resp_text = response.text\n",
        "    dict_ =json.loads(resp_text)\n",
        "    try:\n",
        "       ans = dict_[\"choices\"][0][\"message\"][\"content\"]\n",
        "    except:\n",
        "       return None\n",
        "    return ans "
      ],
      "metadata": {
        "id": "qyCZnokqoPjj"
      },
      "execution_count": null,
      "outputs": []
    },
    {
      "cell_type": "code",
      "source": [
        "# Do this for every question\n",
        "def make_text(q,context):\n",
        "    prompt = f\"\"\"أجب عن السؤال أدناه بأكبر قدر ممكن من الصدق بإستخدام النص المقدم واذا لم تكن الإجابة مضمنة فقل '[UNK]' \n",
        "            Context: {context}\n",
        "            Q: {q}\n",
        "            A:\"\"\"\n",
        "    return prompt "
      ],
      "metadata": {
        "id": "dRmp3IB3swdi"
      },
      "execution_count": null,
      "outputs": []
    },
    {
      "cell_type": "code",
      "source": [
        "# Do this for every question\n",
        "def make_text2(q,context): \n",
        "    prompt = f\"\"\"أجب عن السؤال أدناه بأكبر قدر من الصدق بإستخدام النص المقدم إذا طلب منك المستخدم إحصاءات ما فقم بالإجابة عنها أو قل '[UNK]' \n",
        "            Context: {context}\n",
        "            Q: {q}\n",
        "            A:\"\"\"\n",
        "    return prompt "
      ],
      "metadata": {
        "id": "XQl-fZz2YySV"
      },
      "execution_count": null,
      "outputs": []
    },
    {
      "cell_type": "code",
      "source": [
        "# Do this for every question\n",
        "def make_text3(q,context): \n",
        "    prompt = f\"\"\"\n",
        "     Context: {context}\n",
        "            Q: {q}\n",
        "            A:\"\"\"\n",
        "    return prompt "
      ],
      "metadata": {
        "id": "xw8dek4PobHT"
      },
      "execution_count": null,
      "outputs": []
    },
    {
      "cell_type": "code",
      "source": [
        "# Main2 function \n",
        "def answer2(text):\n",
        "    emb = emb_roberta(text)\n",
        "    scores, indexs = neigh.kneighbors(emb)\n",
        "    res = '\\n'.join([all_desc[i]  for  i in indexs[0]])\n",
        "    pr= make_text(text,res) \n",
        "    ans = gpt5(pr)\n",
        "    print(ans)\n",
        "    if ans != 5:\n",
        "       print(\"%%%%%%%\")\n",
        "       pr  = make_text2(text,all_title) \n",
        "       ans = gpt_hep(pr, all_title)\n",
        "    print('Q: ', text)\n",
        "    print('Answer: ')\n",
        "    print(ans) "
      ],
      "metadata": {
        "id": "R4Onip-msWLs"
      },
      "execution_count": null,
      "outputs": []
    },
    {
      "cell_type": "code",
      "source": [
        "len(''.join(gpt_short)) "
      ],
      "metadata": {
        "colab": {
          "base_uri": "https://localhost:8080/"
        },
        "id": "b_xx2-SiX0R3",
        "outputId": "07e88145-4a0e-4b2b-ae1c-de4f77ffb399"
      },
      "execution_count": null,
      "outputs": [
        {
          "output_type": "execute_result",
          "data": {
            "text/plain": [
              "2216"
            ]
          },
          "metadata": {},
          "execution_count": 49
        }
      ]
    },
    {
      "cell_type": "code",
      "source": [
        "answer2('كم عدد المعسكرات') "
      ],
      "metadata": {
        "colab": {
          "base_uri": "https://localhost:8080/"
        },
        "id": "6DODmvz-T5gj",
        "outputId": "3fe4f7b7-ec8a-4074-b92e-0b851f91374c"
      },
      "execution_count": null,
      "outputs": [
        {
          "output_type": "stream",
          "name": "stdout",
          "text": [
            "لا يوجد معلومات كافية في النص المقدم لتحديد عدد المعسكرات.\n",
            "%%%%%%%\n",
            "Q:  كم عدد المعسكرات\n",
            "Answer: \n",
            "يوجد 10 معسكرات وفقاً للنص المقدم.\n"
          ]
        }
      ]
    },
    {
      "cell_type": "code",
      "source": [
        "answer2('كم عدد المعسكرات المذكورة في النص المقدم بالضبط؟') "
      ],
      "metadata": {
        "colab": {
          "base_uri": "https://localhost:8080/"
        },
        "id": "8lJVj63Qepmh",
        "outputId": "770c70b7-c477-4af4-9d97-81aece3b10bf"
      },
      "execution_count": null,
      "outputs": [
        {
          "output_type": "stream",
          "name": "stdout",
          "text": [
            "يوجد 3 معسكرات مذكورة في النص المقدم.\n",
            "%%%%%%%\n",
            "Q:  كم عدد المعسكرات المذكورة في النص المقدم بالضبط؟\n",
            "Answer: \n",
            "عدد المعسكرات المذكورة في النص المقدم هي عشرة معسكرات.\n"
          ]
        }
      ]
    },
    {
      "cell_type": "code",
      "source": [
        "answer2('أهداف معسكر اندرويد') "
      ],
      "metadata": {
        "colab": {
          "base_uri": "https://localhost:8080/"
        },
        "id": "Y8xa8UBjfQK4",
        "outputId": "75c3eea1-993e-4d23-a844-a4987c3d3796"
      },
      "execution_count": null,
      "outputs": [
        {
          "output_type": "stream",
          "name": "stdout",
          "text": [
            "None\n",
            "%%%%%%%\n",
            "Q:  أهداف معسكر اندرويد\n",
            "Answer: \n",
            "من النص المقدم، يمكن ملاحظة وجود معسكر تطوير تطبيقات Android ولكن لم يتم ذكر معلومات حول أهدافه بشكل محدد.\n"
          ]
        }
      ]
    },
    {
      "cell_type": "code",
      "source": [
        "answer2('ما هي مميزات المعسكر؟') "
      ],
      "metadata": {
        "colab": {
          "base_uri": "https://localhost:8080/"
        },
        "id": "-vNlNyMCtBiT",
        "outputId": "394d0b3f-46c7-4c05-c2da-f647d5bfdd21"
      },
      "execution_count": null,
      "outputs": [
        {
          "output_type": "stream",
          "name": "stdout",
          "text": [
            "Q:  ما هي مميزات المعسكر؟\n",
            "Answer: \n",
            "يمكن الإجابة على سؤالك من خلال النص المقدم لكل معسكر بشكل منفصل. ولكن بشكل عام، تضمن كل معسكر مشاريع عملية وتعليمًا عميقًا في مجالات تقنية حاسوبية محددة، ويتم تقديم الدورات باللغة العربية وحضوريًا. كما يتطلب المعسكر التفرغ للتعلم ونظام كمبيوتر مناسب، ويأتي مع دورات تدريبية في كل من HTML، CSS، ولغة Python. يتيح لك الانتهاء من هذه المهام والتحضير لامتحان الشهادة، والحصول على درجة منقحة من قبل أكاديمية طويق.\n"
          ]
        }
      ]
    },
    {
      "cell_type": "code",
      "source": [
        "answer2('ما أهداف معسكر علم البيانات؟') "
      ],
      "metadata": {
        "colab": {
          "base_uri": "https://localhost:8080/"
        },
        "id": "QSBGjCFztFJc",
        "outputId": "dbdbba62-d55d-439c-f0ce-5bcbbd45397b"
      },
      "execution_count": null,
      "outputs": [
        {
          "output_type": "stream",
          "name": "stdout",
          "text": [
            "Q:  ما أهداف معسكر علم البيانات؟\n",
            "Answer: \n",
            "الأهداف الرئيسية لمعسكر علم البيانات هي:\n",
            "\n",
            "1- العمل مع فريق على مشاريع مختلفة في علم البيانات وتعلم الآلة.\n",
            "2- معرفة أنواع البيانات وطرق التعامل معها.\n",
            "3- تحليل البيانات ونمذجتها باستخدام تقنيات التعلم الآلي.\n"
          ]
        }
      ]
    },
    {
      "cell_type": "code",
      "source": [
        "answer2('ما أهداف مسار علم البيانات في كورسيرا؟') "
      ],
      "metadata": {
        "colab": {
          "base_uri": "https://localhost:8080/"
        },
        "id": "b0EOQz4bEo3H",
        "outputId": "5cb71607-798e-4525-8284-226bee1375ae"
      },
      "execution_count": null,
      "outputs": [
        {
          "output_type": "stream",
          "name": "stdout",
          "text": [
            "Q:  ما أهداف مسار علم البيانات في كورسيرا؟\n",
            "Answer: \n",
            "أنا ذكي ولكني لست قادرًا على الإجابة على هذا السؤال بشكل كامل. يوجد عدة معسكرات في كورسيرا ولكل منها أهداف مختلفة، لذا يرجى تحديد المعسكر المقصود حتى أستطيع الإجابة على السؤال بدقة.\n"
          ]
        }
      ]
    }
  ]
}